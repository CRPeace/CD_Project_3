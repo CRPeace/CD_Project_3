{
 "cells": [
  {
   "cell_type": "markdown",
   "id": "d41c62fb",
   "metadata": {},
   "source": [
    "# IMDB Movie Analysis\n",
    "Cameron Peace"
   ]
  },
  {
   "cell_type": "markdown",
   "id": "a4b2c92b",
   "metadata": {},
   "source": [
    "### Assignment Checklist"
   ]
  },
  {
   "cell_type": "markdown",
   "id": "ba196041",
   "metadata": {},
   "source": [
    "* [ ] 1: Download several files from IMDB’s movie data set and filter out the subset of moves requested by the stakeholder.\n",
    "\n",
    "tables requested:\n",
    "* title.basics.tsv.gz\n",
    "* title.ratings.tsv.gz\n",
    "* title.akas.tsv.gz\n",
    "\n",
    "Specifications\n",
    "Your stakeholder only wants you to include information for movies based on the following specifications:\n",
    "\n",
    "* [ ] Exclude any movie with missing values for genre or runtime\n",
    "* [ ] Include only full-length movies (titleType = \"movie\").\n",
    "* [ ] Include only fictional movies (not from documentary genre)\n",
    "* [ ] Include only movies that were released 2000 - 2021 (include 2000 and 2021)\n",
    "* [ ] Include only movies that were released in the United States\n",
    "\n",
    "Deliverable:\n",
    "After filtering out movies that do not meet the stakeholder's specifications:\n",
    "\n",
    "* [ ] Before saving, run a final .info() for each of the dataframes to show a summary of how many movies remain and the datatypes of each feature\n",
    "* [ ] Save each file to a compressed csv file \"Data/\" folder inside your repository.\n",
    "* [ ] Commit your changes to your repository in GitHub desktop and Publish repository / Push Changes.\n",
    "* [ ] Submit the link to your repository"
   ]
  },
  {
   "cell_type": "markdown",
   "id": "b5781328",
   "metadata": {},
   "source": [
    "### Data Background"
   ]
  },
  {
   "cell_type": "markdown",
   "id": "74d044fa",
   "metadata": {},
   "source": [
    "IMDb Datasets\n",
    "Subsets of IMDb data are available for access to customers for personal and non-commercial use. You can hold local copies of this data, and it is subject to our terms and conditions. Please refer to the Non-Commercial Licensing and copyright/license and verify compliance.\n",
    "\n",
    "Data Location:  The dataset files can be accessed and downloaded from https://datasets.imdbws.com/. The data is refreshed daily."
   ]
  },
  {
   "cell_type": "markdown",
   "id": "2641be71",
   "metadata": {},
   "source": [
    "### Data Dictionaries"
   ]
  },
  {
   "cell_type": "markdown",
   "id": "3833cffc",
   "metadata": {},
   "source": [
    "**title.basics.tsv.gz:**\n",
    "\n",
    "* tconst (string) - alphanumeric unique identifier of the title\n",
    "* titleType (string) – the type/format of the title (e.g. movie, short, tvseries, tvepisode, video, etc)\n",
    "* primaryTitle (string) – the more popular title / the title used by the filmmakers on promotional materials at the point of release\n",
    "* originalTitle (string) - original title, in the original language\n",
    "* isAdult (boolean) - 0: non-adult title; 1: adult title\n",
    "* startYear (YYYY) – represents the release year of a title. In the case of TV Series, it is the series start year\n",
    "* endYear (YYYY) – TV Series end year. ‘\\N’ for all other title types\n",
    "* runtimeMinutes – primary runtime of the title, in minutes\n",
    "* genres (string array) – includes up to three genres associated with the title\n",
    "\n",
    "---\n",
    "\n",
    "**title.akas.tsv.gz:**\n",
    "\n",
    "* titleId (string) - a tconst, an alphanumeric unique identifier of the title\n",
    "* ordering (integer) – a number to uniquely identify rows for a given titleId\n",
    "* title (string) – the localized title\n",
    "* region (string) - the region for this version of the title\n",
    "* language (string) - the language of the title\n",
    "* types (array) - Enumerated set of attributes for this alternative title. One or more of the following: \"alternative\", \"dvd\", \"festival\", \"tv\", \"video\", \"working\", \"original\", \"imdbDisplay\". New values may be added in the future without warning\n",
    "* attributes (array) - Additional terms to describe this alternative title, not enumerated\n",
    "* isOriginalTitle (boolean) – 0: not original title; 1: original title\n",
    "\n",
    "---\n",
    "**title.ratings.tsv.gz:**\n",
    "\n",
    "* tconst (string) - alphanumeric unique identifier of the title\n",
    "* averageRating – weighted average of all the individual user ratings\n",
    "* numVotes - number of votes the title has received"
   ]
  },
  {
   "cell_type": "code",
   "execution_count": null,
   "id": "08086cad",
   "metadata": {},
   "outputs": [],
   "source": []
  },
  {
   "cell_type": "code",
   "execution_count": null,
   "id": "5a6df6d5",
   "metadata": {},
   "outputs": [],
   "source": []
  },
  {
   "cell_type": "code",
   "execution_count": null,
   "id": "9324a373",
   "metadata": {},
   "outputs": [],
   "source": [
    "# imdb urls for datasets\n",
    "basics = \"https://datasets.imdbws.com/title.basics.tsv.gz\"\n",
    "akas = \"https://datasets.imdbws.com/title.akas.tsv.gz\"\n",
    "ratings = \"https://datasets.imdbws.com/title.ratings.tsv.gz\""
   ]
  },
  {
   "cell_type": "code",
   "execution_count": null,
   "id": "cea7a5f1",
   "metadata": {},
   "outputs": [],
   "source": []
  }
 ],
 "metadata": {
  "kernelspec": {
   "display_name": "Python (dojo-env)",
   "language": "python",
   "name": "dojo-env"
  },
  "language_info": {
   "codemirror_mode": {
    "name": "ipython",
    "version": 3
   },
   "file_extension": ".py",
   "mimetype": "text/x-python",
   "name": "python",
   "nbconvert_exporter": "python",
   "pygments_lexer": "ipython3",
   "version": "3.9.15"
  },
  "toc": {
   "base_numbering": 1,
   "nav_menu": {},
   "number_sections": false,
   "sideBar": true,
   "skip_h1_title": false,
   "title_cell": "Table of Contents",
   "title_sidebar": "Contents",
   "toc_cell": false,
   "toc_position": {},
   "toc_section_display": true,
   "toc_window_display": false
  },
  "varInspector": {
   "cols": {
    "lenName": 16,
    "lenType": 16,
    "lenVar": 40
   },
   "kernels_config": {
    "python": {
     "delete_cmd_postfix": "",
     "delete_cmd_prefix": "del ",
     "library": "var_list.py",
     "varRefreshCmd": "print(var_dic_list())"
    },
    "r": {
     "delete_cmd_postfix": ") ",
     "delete_cmd_prefix": "rm(",
     "library": "var_list.r",
     "varRefreshCmd": "cat(var_dic_list()) "
    }
   },
   "types_to_exclude": [
    "module",
    "function",
    "builtin_function_or_method",
    "instance",
    "_Feature"
   ],
   "window_display": false
  }
 },
 "nbformat": 4,
 "nbformat_minor": 5
}
