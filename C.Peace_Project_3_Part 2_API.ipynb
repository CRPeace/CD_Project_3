{
 "cells": [
  {
   "cell_type": "markdown",
   "id": "c8ca42ac",
   "metadata": {},
   "source": [
    "# Project 3 Part 2 API"
   ]
  },
  {
   "cell_type": "markdown",
   "id": "740ab783",
   "metadata": {},
   "source": [
    "<mark> ***Use an API to extract box office revenue and profit data to add to your IMDB data and perform exploratory data analysis.***"
   ]
  },
  {
   "cell_type": "markdown",
   "id": "76358f8f",
   "metadata": {},
   "source": [
    "### Task"
   ]
  },
  {
   "cell_type": "markdown",
   "id": "f485a2aa",
   "metadata": {},
   "source": [
    "Your stakeholder wants you to extract the budget, revenue, and MPAA Rating (G/PG/PG-13/R), which is also called \"Certification\".\n",
    "\n",
    "Note: this process can take a long time and may need to run overnight.\n",
    "Specifications - Financial Data\n",
    "Your stakeholder would like you to extract and save the results for movies that meet all of the criteria established in part 1 of the project (You should already have a filtered dataframe saved from part one as a csv.gz file)\n",
    "\n",
    "* [x] As a proof-of-concept, they requested you perform a test extraction of movies that started in 2000 or 2001\n",
    "\n",
    "* [x] Each year should be saved as a separate .csv.gz file\n",
    "\n",
    "Hint: Use the two custom functions from the lessons (Intro to TMDB API, and Efficient TMDB API Calls). Be sure to define these functions prior to calling them in your code!\n",
    "\n",
    "One function will add the certification (MPGG Rating) to movie.info\n",
    "The other function will help you append/extend a JSON file with Python\n",
    "Confirm Your API Function works.\n",
    "\n",
    "* [x] In order to ensure your function for extracting movie data from TMDB is working, test your function on these 2 movie ids: tt0848228 (\"The Avengers\") and tt0332280 (\"The Notebook\"). Make sure that your function runs without error and that it returns the correct movie's data for both test ids.\n",
    "\n",
    "Once you have retrieved and saved the final results to 2 separate .csv.gz files, move on to a new Exploratory Data Analysis notebook to explore the following questions."
   ]
  },
  {
   "cell_type": "markdown",
   "id": "7d1b9a43",
   "metadata": {},
   "source": [
    "### Imports"
   ]
  },
  {
   "cell_type": "code",
   "execution_count": 1,
   "id": "8cf5c192",
   "metadata": {},
   "outputs": [],
   "source": [
    "import pandas as pd\n",
    "import numpy as np\n",
    "from matplotlib import pyplot as plt\n",
    "import seaborn as sns\n",
    "from tqdm.notebook import tqdm_notebook\n",
    "import tmdbsimple as tmdb\n",
    "import json\n",
    "import time\n",
    "import os"
   ]
  },
  {
   "cell_type": "markdown",
   "id": "3ec88716",
   "metadata": {},
   "source": [
    "### Loading in csvs"
   ]
  },
  {
   "cell_type": "code",
   "execution_count": 2,
   "id": "6fcdf885",
   "metadata": {
    "scrolled": true
   },
   "outputs": [
    {
     "data": {
      "text/html": [
       "<div>\n",
       "<style scoped>\n",
       "    .dataframe tbody tr th:only-of-type {\n",
       "        vertical-align: middle;\n",
       "    }\n",
       "\n",
       "    .dataframe tbody tr th {\n",
       "        vertical-align: top;\n",
       "    }\n",
       "\n",
       "    .dataframe thead th {\n",
       "        text-align: right;\n",
       "    }\n",
       "</style>\n",
       "<table border=\"1\" class=\"dataframe\">\n",
       "  <thead>\n",
       "    <tr style=\"text-align: right;\">\n",
       "      <th></th>\n",
       "      <th>tconst</th>\n",
       "      <th>titleType</th>\n",
       "      <th>primaryTitle</th>\n",
       "      <th>originalTitle</th>\n",
       "      <th>isAdult</th>\n",
       "      <th>startYear</th>\n",
       "      <th>endYear</th>\n",
       "      <th>runtimeMinutes</th>\n",
       "      <th>genres</th>\n",
       "    </tr>\n",
       "  </thead>\n",
       "  <tbody>\n",
       "    <tr>\n",
       "      <th>0</th>\n",
       "      <td>tt0035423</td>\n",
       "      <td>movie</td>\n",
       "      <td>Kate &amp; Leopold</td>\n",
       "      <td>Kate &amp; Leopold</td>\n",
       "      <td>0</td>\n",
       "      <td>2001.0</td>\n",
       "      <td>NaN</td>\n",
       "      <td>118</td>\n",
       "      <td>Comedy,Fantasy,Romance</td>\n",
       "    </tr>\n",
       "    <tr>\n",
       "      <th>1</th>\n",
       "      <td>tt0062336</td>\n",
       "      <td>movie</td>\n",
       "      <td>The Tango of the Widower and Its Distorting Mi...</td>\n",
       "      <td>El tango del viudo y su espejo deformante</td>\n",
       "      <td>0</td>\n",
       "      <td>2020.0</td>\n",
       "      <td>NaN</td>\n",
       "      <td>70</td>\n",
       "      <td>Drama</td>\n",
       "    </tr>\n",
       "  </tbody>\n",
       "</table>\n",
       "</div>"
      ],
      "text/plain": [
       "      tconst titleType                                       primaryTitle  \\\n",
       "0  tt0035423     movie                                     Kate & Leopold   \n",
       "1  tt0062336     movie  The Tango of the Widower and Its Distorting Mi...   \n",
       "\n",
       "                               originalTitle  isAdult  startYear  endYear  \\\n",
       "0                             Kate & Leopold        0     2001.0      NaN   \n",
       "1  El tango del viudo y su espejo deformante        0     2020.0      NaN   \n",
       "\n",
       "   runtimeMinutes                  genres  \n",
       "0             118  Comedy,Fantasy,Romance  \n",
       "1              70                   Drama  "
      ]
     },
     "execution_count": 2,
     "metadata": {},
     "output_type": "execute_result"
    }
   ],
   "source": [
    "basics = pd.read_csv('Data/title_basics.csv.gz')\n",
    "basics.head(2)"
   ]
  },
  {
   "cell_type": "code",
   "execution_count": 3,
   "id": "f720cfdf",
   "metadata": {},
   "outputs": [],
   "source": [
    "# changing year to int because the float may be causing an error in later code\n",
    "basics['startYear'] = basics['startYear'].astype(int)"
   ]
  },
  {
   "cell_type": "code",
   "execution_count": 4,
   "id": "ac5b391e",
   "metadata": {},
   "outputs": [
    {
     "data": {
      "text/html": [
       "<div>\n",
       "<style scoped>\n",
       "    .dataframe tbody tr th:only-of-type {\n",
       "        vertical-align: middle;\n",
       "    }\n",
       "\n",
       "    .dataframe tbody tr th {\n",
       "        vertical-align: top;\n",
       "    }\n",
       "\n",
       "    .dataframe thead th {\n",
       "        text-align: right;\n",
       "    }\n",
       "</style>\n",
       "<table border=\"1\" class=\"dataframe\">\n",
       "  <thead>\n",
       "    <tr style=\"text-align: right;\">\n",
       "      <th></th>\n",
       "      <th>tconst</th>\n",
       "      <th>titleType</th>\n",
       "      <th>primaryTitle</th>\n",
       "      <th>originalTitle</th>\n",
       "      <th>isAdult</th>\n",
       "      <th>startYear</th>\n",
       "      <th>endYear</th>\n",
       "      <th>runtimeMinutes</th>\n",
       "      <th>genres</th>\n",
       "    </tr>\n",
       "  </thead>\n",
       "  <tbody>\n",
       "    <tr>\n",
       "      <th>0</th>\n",
       "      <td>tt0035423</td>\n",
       "      <td>movie</td>\n",
       "      <td>Kate &amp; Leopold</td>\n",
       "      <td>Kate &amp; Leopold</td>\n",
       "      <td>0</td>\n",
       "      <td>2001</td>\n",
       "      <td>NaN</td>\n",
       "      <td>118</td>\n",
       "      <td>Comedy,Fantasy,Romance</td>\n",
       "    </tr>\n",
       "    <tr>\n",
       "      <th>1</th>\n",
       "      <td>tt0062336</td>\n",
       "      <td>movie</td>\n",
       "      <td>The Tango of the Widower and Its Distorting Mi...</td>\n",
       "      <td>El tango del viudo y su espejo deformante</td>\n",
       "      <td>0</td>\n",
       "      <td>2020</td>\n",
       "      <td>NaN</td>\n",
       "      <td>70</td>\n",
       "      <td>Drama</td>\n",
       "    </tr>\n",
       "    <tr>\n",
       "      <th>2</th>\n",
       "      <td>tt0069049</td>\n",
       "      <td>movie</td>\n",
       "      <td>The Other Side of the Wind</td>\n",
       "      <td>The Other Side of the Wind</td>\n",
       "      <td>0</td>\n",
       "      <td>2018</td>\n",
       "      <td>NaN</td>\n",
       "      <td>122</td>\n",
       "      <td>Drama</td>\n",
       "    </tr>\n",
       "    <tr>\n",
       "      <th>3</th>\n",
       "      <td>tt0088751</td>\n",
       "      <td>movie</td>\n",
       "      <td>The Naked Monster</td>\n",
       "      <td>The Naked Monster</td>\n",
       "      <td>0</td>\n",
       "      <td>2005</td>\n",
       "      <td>NaN</td>\n",
       "      <td>100</td>\n",
       "      <td>Comedy,Horror,Sci-Fi</td>\n",
       "    </tr>\n",
       "    <tr>\n",
       "      <th>4</th>\n",
       "      <td>tt0096056</td>\n",
       "      <td>movie</td>\n",
       "      <td>Crime and Punishment</td>\n",
       "      <td>Crime and Punishment</td>\n",
       "      <td>0</td>\n",
       "      <td>2002</td>\n",
       "      <td>NaN</td>\n",
       "      <td>126</td>\n",
       "      <td>Drama</td>\n",
       "    </tr>\n",
       "  </tbody>\n",
       "</table>\n",
       "</div>"
      ],
      "text/plain": [
       "      tconst titleType                                       primaryTitle  \\\n",
       "0  tt0035423     movie                                     Kate & Leopold   \n",
       "1  tt0062336     movie  The Tango of the Widower and Its Distorting Mi...   \n",
       "2  tt0069049     movie                         The Other Side of the Wind   \n",
       "3  tt0088751     movie                                  The Naked Monster   \n",
       "4  tt0096056     movie                               Crime and Punishment   \n",
       "\n",
       "                               originalTitle  isAdult  startYear  endYear  \\\n",
       "0                             Kate & Leopold        0       2001      NaN   \n",
       "1  El tango del viudo y su espejo deformante        0       2020      NaN   \n",
       "2                 The Other Side of the Wind        0       2018      NaN   \n",
       "3                          The Naked Monster        0       2005      NaN   \n",
       "4                       Crime and Punishment        0       2002      NaN   \n",
       "\n",
       "   runtimeMinutes                  genres  \n",
       "0             118  Comedy,Fantasy,Romance  \n",
       "1              70                   Drama  \n",
       "2             122                   Drama  \n",
       "3             100    Comedy,Horror,Sci-Fi  \n",
       "4             126                   Drama  "
      ]
     },
     "execution_count": 4,
     "metadata": {},
     "output_type": "execute_result"
    }
   ],
   "source": [
    "# confirming\n",
    "basics.head()"
   ]
  },
  {
   "cell_type": "markdown",
   "id": "e63b0d42",
   "metadata": {},
   "source": [
    "## Setting up the API"
   ]
  },
  {
   "cell_type": "code",
   "execution_count": 5,
   "id": "ee5e0733",
   "metadata": {},
   "outputs": [
    {
     "data": {
      "text/plain": [
       "dict_keys(['api-key'])"
      ]
     },
     "execution_count": 5,
     "metadata": {},
     "output_type": "execute_result"
    }
   ],
   "source": [
    "# loading api-key\n",
    "with open('/Users/cameron/.secret/tmdb_api.json', 'r') as f:\n",
    "    login = json.load(f)\n",
    "# confirming\n",
    "login.keys()"
   ]
  },
  {
   "cell_type": "code",
   "execution_count": 6,
   "id": "4031c8a6",
   "metadata": {},
   "outputs": [],
   "source": [
    "# setting key in tmdb module\n",
    "tmdb.API_KEY =  login['api-key']"
   ]
  },
  {
   "cell_type": "markdown",
   "id": "93af53ff",
   "metadata": {},
   "source": [
    "### Setting up folder"
   ]
  },
  {
   "cell_type": "code",
   "execution_count": 7,
   "id": "5319cc51",
   "metadata": {},
   "outputs": [],
   "source": [
    "folder = \"Data/\"\n",
    "os.makedirs(folder, exist_ok=True)\n",
    "os.listdir(folder);"
   ]
  },
  {
   "cell_type": "markdown",
   "id": "a37e11e7",
   "metadata": {},
   "source": [
    "## Setting up functions"
   ]
  },
  {
   "cell_type": "code",
   "execution_count": 8,
   "id": "12f5c63e",
   "metadata": {},
   "outputs": [],
   "source": [
    "def get_movie_with_rating(movie_id):\n",
    "    movie = tmdb.Movies(movie_id)\n",
    "    info = movie.info()\n",
    "    releases = movie.releases()\n",
    "\n",
    "    for c in releases['countries']:\n",
    "        if c['iso_3166_1' ] == 'US':\n",
    "           info['certification'] = c['certification']\n",
    "    \n",
    "    return info"
   ]
  },
  {
   "cell_type": "code",
   "execution_count": 9,
   "id": "a07281b6",
   "metadata": {},
   "outputs": [],
   "source": [
    "def write_json(new_data, filename): \n",
    "    \"\"\"Appends a list of records (new_data) to a json file (filename). \n",
    "    Adapted from: https://www.geeksforgeeks.org/append-to-json-file-using-python/\"\"\"  \n",
    "    \n",
    "    with open(filename, 'r+') as file:\n",
    "        file_data = json.load(file)\n",
    "        if (type(new_data) == list) & (type(file_data) == list):\n",
    "            file_data.extend(new_data)\n",
    "        else:\n",
    "             file_data.append(new_data)\n",
    "        file.seek(0)\n",
    "        json.dump(file_data, file)"
   ]
  },
  {
   "cell_type": "markdown",
   "id": "9c35d37f",
   "metadata": {},
   "source": [
    "### Testing Functions"
   ]
  },
  {
   "cell_type": "markdown",
   "id": "38c2c839",
   "metadata": {},
   "source": [
    "In order to ensure your function for extracting movie data from TMDB is working, test your function on these 2 movie ids: tt0848228 (\"The Avengers\") and tt0332280 (\"The Notebook\"). Make sure that your function runs without error and that it returns the correct movie's data for both test ids."
   ]
  },
  {
   "cell_type": "code",
   "execution_count": 10,
   "id": "b1b012dd",
   "metadata": {},
   "outputs": [],
   "source": [
    "# using function\n",
    "avengers = get_movie_with_rating('tt0848228')\n",
    "notebook = get_movie_with_rating('tt0332280')"
   ]
  },
  {
   "cell_type": "code",
   "execution_count": 11,
   "id": "e27a10aa",
   "metadata": {
    "scrolled": true
   },
   "outputs": [
    {
     "name": "stdout",
     "output_type": "stream",
     "text": [
      "The Avengers 2012-04-25 PG-13\n",
      "The Notebook 2004-06-25 PG-13\n"
     ]
    }
   ],
   "source": [
    "# confirming results\n",
    "for i in [avengers, notebook]:\n",
    "    print(i['title'], i['release_date'], i['certification'])"
   ]
  },
  {
   "cell_type": "markdown",
   "id": "4071fe8a",
   "metadata": {},
   "source": [
    "<mark><u>**Comment:**</u>\n",
    "\n",
    "<font color='dodgerblue' size=4><i>\n",
    "Looks like everything worked here\n",
    "</i></font>"
   ]
  },
  {
   "cell_type": "markdown",
   "id": "924b9f0c",
   "metadata": {},
   "source": [
    "### Loop to Gather Data"
   ]
  },
  {
   "cell_type": "code",
   "execution_count": 12,
   "id": "bfd6e211",
   "metadata": {},
   "outputs": [],
   "source": [
    "# years to get from api call\n",
    "years_to_get = [2000, 2001]"
   ]
  },
  {
   "cell_type": "code",
   "execution_count": 13,
   "id": "4afcddfd",
   "metadata": {},
   "outputs": [],
   "source": [
    "# list to catch errors\n",
    "errors = []"
   ]
  },
  {
   "cell_type": "code",
   "execution_count": 14,
   "id": "b2732b8a",
   "metadata": {},
   "outputs": [
    {
     "data": {
      "application/vnd.jupyter.widget-view+json": {
       "model_id": "87c052be56304cbf896838f5a998b5bf",
       "version_major": 2,
       "version_minor": 0
      },
      "text/plain": [
       "YEARS:   0%|          | 0/2 [00:00<?, ?it/s]"
      ]
     },
     "metadata": {},
     "output_type": "display_data"
    },
    {
     "data": {
      "application/vnd.jupyter.widget-view+json": {
       "model_id": "fff9a9c7df7540319286d37a2b304eb1",
       "version_major": 2,
       "version_minor": 0
      },
      "text/plain": [
       "Movies from 2000:   0%|          | 0/210 [00:00<?, ?it/s]"
      ]
     },
     "metadata": {},
     "output_type": "display_data"
    },
    {
     "data": {
      "application/vnd.jupyter.widget-view+json": {
       "model_id": "132cfc4835054c1c889215662ff7d4f3",
       "version_major": 2,
       "version_minor": 0
      },
      "text/plain": [
       "Movies from 2001:   0%|          | 0/243 [00:00<?, ?it/s]"
      ]
     },
     "metadata": {},
     "output_type": "display_data"
    }
   ],
   "source": [
    "for year in tqdm_notebook(years_to_get, desc='YEARS', position=0):\n",
    "    json_file = f'{folder}tmdb_api_results_{year}.json'\n",
    "    if os.path.isfile(json_file) == False:\n",
    "        with open(json_file, 'w') as f:\n",
    "            json.dump([{'imdb_id':0}], f)\n",
    "\n",
    "    df = basics.loc[basics['startYear'] == year].copy()\n",
    "    movie_ids = df['tconst'].copy()\n",
    "    previous_df = pd.read_json(json_file)\n",
    "    movie_ids_to_get = movie_ids[~movie_ids.isin(previous_df['imdb_id'])]\n",
    "\n",
    "    for movie_id in tqdm_notebook(movie_ids_to_get,\n",
    "                                  desc=f'Movies from {year}',\n",
    "                                  position=1,\n",
    "                                  leave=True):\n",
    "        try:\n",
    "            temp = get_movie_with_rating(movie_id)  \n",
    "            write_json(temp, json_file)\n",
    "            time.sleep(0.02)\n",
    "            \n",
    "        except Exception as e:\n",
    "            errors.append([movie_id, e])\n",
    "        \n",
    "    final_year_df = pd.read_json(json_file)\n",
    "    final_year_df.to_csv(f\"{folder}final_tmdb_data_{year}.csv.gz\", compression=\"gzip\", index=False)"
   ]
  },
  {
   "cell_type": "markdown",
   "id": "380520a6",
   "metadata": {},
   "source": [
    "### Checking Results"
   ]
  },
  {
   "cell_type": "code",
   "execution_count": 16,
   "id": "be02070b",
   "metadata": {},
   "outputs": [
    {
     "name": "stdout",
     "output_type": "stream",
     "text": [
      "- Total errors: 453\n",
      "- 404 Client Errors: 453\n"
     ]
    }
   ],
   "source": [
    "# checking the number of errors\n",
    "print(f\"- Total errors: {len(errors)}\")\n",
    "\n",
    "# demonstrating that the errors are related to imdb ids not found in the tmdb\n",
    "count = 0\n",
    "not_404 = []\n",
    "for i in errors:\n",
    "    if '404 Client Error' in str(i[1]):\n",
    "        count += 1\n",
    "    else:\n",
    "        not_404.append(i)\n",
    "print(f'- 404 Client Errors: {count}')\n",
    "\n",
    "# printing any errors that are not 404 if they exist\n",
    "if not_404: \n",
    "    print(not_404)"
   ]
  },
  {
   "cell_type": "code",
   "execution_count": 17,
   "id": "43867254",
   "metadata": {},
   "outputs": [
    {
     "data": {
      "text/plain": [
       "[['tt0115937',\n",
       "  requests.exceptions.HTTPError('404 Client Error: Not Found for url: https://api.themoviedb.org/3/movie/tt0115937?api_key=4d4c9815bcf18b420f748fabcf653225')],\n",
       " ['tt0116628',\n",
       "  requests.exceptions.HTTPError('404 Client Error: Not Found for url: https://api.themoviedb.org/3/movie/tt0116628?api_key=4d4c9815bcf18b420f748fabcf653225')],\n",
       " ['tt0118710',\n",
       "  requests.exceptions.HTTPError('404 Client Error: Not Found for url: https://api.themoviedb.org/3/movie/tt0118710?api_key=4d4c9815bcf18b420f748fabcf653225')]]"
      ]
     },
     "execution_count": 17,
     "metadata": {},
     "output_type": "execute_result"
    }
   ],
   "source": [
    "# taking a look at errors\n",
    "errors[:3]"
   ]
  },
  {
   "cell_type": "code",
   "execution_count": 18,
   "id": "c89b46f9",
   "metadata": {},
   "outputs": [],
   "source": [
    "# confirming data\n",
    "df_2000 = pd.read_json('Data/tmdb_api_results_2000.json')\n",
    "df_2001 = pd.read_json('Data/tmdb_api_results_2001.json')"
   ]
  },
  {
   "cell_type": "code",
   "execution_count": 19,
   "id": "ae2636db",
   "metadata": {},
   "outputs": [
    {
     "data": {
      "text/plain": [
       "1229"
      ]
     },
     "metadata": {},
     "output_type": "display_data"
    },
    {
     "data": {
      "text/plain": [
       "1314"
      ]
     },
     "metadata": {},
     "output_type": "display_data"
    }
   ],
   "source": [
    "# confirming\n",
    "display(len(df_2000), len(df_2001))"
   ]
  },
  {
   "cell_type": "code",
   "execution_count": 20,
   "id": "9c8e2136",
   "metadata": {},
   "outputs": [
    {
     "data": {
      "text/plain": [
       "Index(['imdb_id', 'adult', 'backdrop_path', 'belongs_to_collection', 'budget',\n",
       "       'genres', 'homepage', 'id', 'original_language', 'original_title',\n",
       "       'overview', 'popularity', 'poster_path', 'production_companies',\n",
       "       'production_countries', 'release_date', 'revenue', 'runtime',\n",
       "       'spoken_languages', 'status', 'tagline', 'title', 'video',\n",
       "       'vote_average', 'vote_count', 'certification'],\n",
       "      dtype='object')"
      ]
     },
     "execution_count": 20,
     "metadata": {},
     "output_type": "execute_result"
    }
   ],
   "source": [
    "# confirming columns\n",
    "df_2000.columns"
   ]
  },
  {
   "cell_type": "code",
   "execution_count": 23,
   "id": "e1707a46",
   "metadata": {},
   "outputs": [
    {
     "data": {
      "text/html": [
       "<div>\n",
       "<style scoped>\n",
       "    .dataframe tbody tr th:only-of-type {\n",
       "        vertical-align: middle;\n",
       "    }\n",
       "\n",
       "    .dataframe tbody tr th {\n",
       "        vertical-align: top;\n",
       "    }\n",
       "\n",
       "    .dataframe thead th {\n",
       "        text-align: right;\n",
       "    }\n",
       "</style>\n",
       "<table border=\"1\" class=\"dataframe\">\n",
       "  <thead>\n",
       "    <tr style=\"text-align: right;\">\n",
       "      <th></th>\n",
       "      <th>627</th>\n",
       "      <th>858</th>\n",
       "      <th>332</th>\n",
       "      <th>949</th>\n",
       "      <th>495</th>\n",
       "    </tr>\n",
       "  </thead>\n",
       "  <tbody>\n",
       "    <tr>\n",
       "      <th>imdb_id</th>\n",
       "      <td>tt0228180</td>\n",
       "      <td>tt0252335</td>\n",
       "      <td>tt0200192</td>\n",
       "      <td>tt0264079</td>\n",
       "      <td>tt0215841</td>\n",
       "    </tr>\n",
       "    <tr>\n",
       "      <th>adult</th>\n",
       "      <td>0.0</td>\n",
       "      <td>0.0</td>\n",
       "      <td>0.0</td>\n",
       "      <td>0.0</td>\n",
       "      <td>0.0</td>\n",
       "    </tr>\n",
       "    <tr>\n",
       "      <th>backdrop_path</th>\n",
       "      <td>None</td>\n",
       "      <td>/5iNrEilm4jG4hUklek81e5R8AGN.jpg</td>\n",
       "      <td>/n74r1dfTqnArIGC8VNU8k0gHf04.jpg</td>\n",
       "      <td>/e6BaxmNg805FIIBP4eE0CVU3cRy.jpg</td>\n",
       "      <td>/zKfKwKwQmU4VsQsv3afeNMN6jNS.jpg</td>\n",
       "    </tr>\n",
       "    <tr>\n",
       "      <th>belongs_to_collection</th>\n",
       "      <td>None</td>\n",
       "      <td>None</td>\n",
       "      <td>None</td>\n",
       "      <td>{'id': 429231, 'name': 'Taina Collection', 'po...</td>\n",
       "      <td>None</td>\n",
       "    </tr>\n",
       "    <tr>\n",
       "      <th>budget</th>\n",
       "      <td>0.0</td>\n",
       "      <td>0.0</td>\n",
       "      <td>0.0</td>\n",
       "      <td>0.0</td>\n",
       "      <td>0.0</td>\n",
       "    </tr>\n",
       "    <tr>\n",
       "      <th>genres</th>\n",
       "      <td>[{'id': 53, 'name': 'Thriller'}]</td>\n",
       "      <td>[{'id': 18, 'name': 'Drama'}, {'id': 14, 'name...</td>\n",
       "      <td>[{'id': 35, 'name': 'Comedy'}, {'id': 18, 'nam...</td>\n",
       "      <td>[{'id': 10751, 'name': 'Family'}, {'id': 14, '...</td>\n",
       "      <td>[{'id': 18, 'name': 'Drama'}, {'id': 80, 'name...</td>\n",
       "    </tr>\n",
       "    <tr>\n",
       "      <th>homepage</th>\n",
       "      <td></td>\n",
       "      <td></td>\n",
       "      <td></td>\n",
       "      <td></td>\n",
       "      <td></td>\n",
       "    </tr>\n",
       "    <tr>\n",
       "      <th>id</th>\n",
       "      <td>81277.0</td>\n",
       "      <td>140101.0</td>\n",
       "      <td>22705.0</td>\n",
       "      <td>294161.0</td>\n",
       "      <td>58169.0</td>\n",
       "    </tr>\n",
       "    <tr>\n",
       "      <th>original_language</th>\n",
       "      <td>en</td>\n",
       "      <td>fr</td>\n",
       "      <td>it</td>\n",
       "      <td>pt</td>\n",
       "      <td>fr</td>\n",
       "    </tr>\n",
       "    <tr>\n",
       "      <th>original_title</th>\n",
       "      <td>Dangerous Attraction</td>\n",
       "      <td>Combat d'amour en songe</td>\n",
       "      <td>Tra(sgre)dire</td>\n",
       "      <td>Tainá: Uma Aventura na Amazônia</td>\n",
       "      <td>Hijack Stories</td>\n",
       "    </tr>\n",
       "    <tr>\n",
       "      <th>overview</th>\n",
       "      <td>A successful ad agency woman finds herself in ...</td>\n",
       "      <td>A serious young man of free spirit is forced b...</td>\n",
       "      <td>While scouting out apartments in London for he...</td>\n",
       "      <td>A brave and bold indigenous girl, protector of...</td>\n",
       "      <td>Far from Hollywood eye candy, this movie has a...</td>\n",
       "    </tr>\n",
       "    <tr>\n",
       "      <th>popularity</th>\n",
       "      <td>3.324</td>\n",
       "      <td>1.423</td>\n",
       "      <td>47.187</td>\n",
       "      <td>2.593</td>\n",
       "      <td>1.52</td>\n",
       "    </tr>\n",
       "    <tr>\n",
       "      <th>poster_path</th>\n",
       "      <td>/nfPJ4S9282v9B21FDSzesDIadJ1.jpg</td>\n",
       "      <td>/1LPY4kvYkBWJcTLkkYWMWpbXpHW.jpg</td>\n",
       "      <td>/1mtLSZSdgIUKgHZ44PK2gVPEfOn.jpg</td>\n",
       "      <td>/1eWXD2818d5VVHhayLIOvyTI9wy.jpg</td>\n",
       "      <td>/ovGt6JtNXGiOQqHP0dvWJ24hjDE.jpg</td>\n",
       "    </tr>\n",
       "    <tr>\n",
       "      <th>production_companies</th>\n",
       "      <td>[]</td>\n",
       "      <td>[{'id': 6584, 'logo_path': None, 'name': 'Gemi...</td>\n",
       "      <td>[{'id': 31075, 'logo_path': None, 'name': 'Lio...</td>\n",
       "      <td>[{'id': 93240, 'logo_path': None, 'name': 'Tie...</td>\n",
       "      <td>[]</td>\n",
       "    </tr>\n",
       "    <tr>\n",
       "      <th>production_countries</th>\n",
       "      <td>[{'iso_3166_1': 'CA', 'name': 'Canada'}]</td>\n",
       "      <td>[{'iso_3166_1': 'PT', 'name': 'Portugal'}, {'i...</td>\n",
       "      <td>[{'iso_3166_1': 'IT', 'name': 'Italy'}]</td>\n",
       "      <td>[{'iso_3166_1': 'BR', 'name': 'Brazil'}]</td>\n",
       "      <td>[]</td>\n",
       "    </tr>\n",
       "    <tr>\n",
       "      <th>release_date</th>\n",
       "      <td>2000-05-30</td>\n",
       "      <td>2000-08-28</td>\n",
       "      <td>2000-01-28</td>\n",
       "      <td>2001-01-12</td>\n",
       "      <td>2001-07-03</td>\n",
       "    </tr>\n",
       "    <tr>\n",
       "      <th>revenue</th>\n",
       "      <td>0.0</td>\n",
       "      <td>0.0</td>\n",
       "      <td>0.0</td>\n",
       "      <td>0.0</td>\n",
       "      <td>0.0</td>\n",
       "    </tr>\n",
       "    <tr>\n",
       "      <th>runtime</th>\n",
       "      <td>94.0</td>\n",
       "      <td>123.0</td>\n",
       "      <td>91.0</td>\n",
       "      <td>90.0</td>\n",
       "      <td>0.0</td>\n",
       "    </tr>\n",
       "    <tr>\n",
       "      <th>spoken_languages</th>\n",
       "      <td>[{'english_name': 'English', 'iso_639_1': 'en'...</td>\n",
       "      <td>[{'english_name': 'Spanish', 'iso_639_1': 'es'...</td>\n",
       "      <td>[{'english_name': 'Italian', 'iso_639_1': 'it'...</td>\n",
       "      <td>[{'english_name': 'Portuguese', 'iso_639_1': '...</td>\n",
       "      <td>[]</td>\n",
       "    </tr>\n",
       "    <tr>\n",
       "      <th>status</th>\n",
       "      <td>Released</td>\n",
       "      <td>Released</td>\n",
       "      <td>Released</td>\n",
       "      <td>Released</td>\n",
       "      <td>Released</td>\n",
       "    </tr>\n",
       "    <tr>\n",
       "      <th>tagline</th>\n",
       "      <td></td>\n",
       "      <td></td>\n",
       "      <td></td>\n",
       "      <td>They have a mission: protect nature from man's...</td>\n",
       "      <td></td>\n",
       "    </tr>\n",
       "    <tr>\n",
       "      <th>title</th>\n",
       "      <td>Dangerous Attraction</td>\n",
       "      <td>Love Torn in Dreams</td>\n",
       "      <td>Cheeky</td>\n",
       "      <td>Tainá: An Amazon Adventure</td>\n",
       "      <td>Hijack Stories</td>\n",
       "    </tr>\n",
       "    <tr>\n",
       "      <th>video</th>\n",
       "      <td>0.0</td>\n",
       "      <td>0.0</td>\n",
       "      <td>0.0</td>\n",
       "      <td>0.0</td>\n",
       "      <td>0.0</td>\n",
       "    </tr>\n",
       "    <tr>\n",
       "      <th>vote_average</th>\n",
       "      <td>5.1</td>\n",
       "      <td>7.5</td>\n",
       "      <td>5.498</td>\n",
       "      <td>4.443</td>\n",
       "      <td>5.3</td>\n",
       "    </tr>\n",
       "    <tr>\n",
       "      <th>vote_count</th>\n",
       "      <td>6.0</td>\n",
       "      <td>8.0</td>\n",
       "      <td>200.0</td>\n",
       "      <td>35.0</td>\n",
       "      <td>3.0</td>\n",
       "    </tr>\n",
       "    <tr>\n",
       "      <th>certification</th>\n",
       "      <td>NaN</td>\n",
       "      <td>NaN</td>\n",
       "      <td>NaN</td>\n",
       "      <td>NaN</td>\n",
       "      <td>NaN</td>\n",
       "    </tr>\n",
       "  </tbody>\n",
       "</table>\n",
       "</div>"
      ],
      "text/plain": [
       "                                                                     627  \\\n",
       "imdb_id                                                        tt0228180   \n",
       "adult                                                                0.0   \n",
       "backdrop_path                                                       None   \n",
       "belongs_to_collection                                               None   \n",
       "budget                                                               0.0   \n",
       "genres                                  [{'id': 53, 'name': 'Thriller'}]   \n",
       "homepage                                                                   \n",
       "id                                                               81277.0   \n",
       "original_language                                                     en   \n",
       "original_title                                      Dangerous Attraction   \n",
       "overview               A successful ad agency woman finds herself in ...   \n",
       "popularity                                                         3.324   \n",
       "poster_path                             /nfPJ4S9282v9B21FDSzesDIadJ1.jpg   \n",
       "production_companies                                                  []   \n",
       "production_countries            [{'iso_3166_1': 'CA', 'name': 'Canada'}]   \n",
       "release_date                                                  2000-05-30   \n",
       "revenue                                                              0.0   \n",
       "runtime                                                             94.0   \n",
       "spoken_languages       [{'english_name': 'English', 'iso_639_1': 'en'...   \n",
       "status                                                          Released   \n",
       "tagline                                                                    \n",
       "title                                               Dangerous Attraction   \n",
       "video                                                                0.0   \n",
       "vote_average                                                         5.1   \n",
       "vote_count                                                           6.0   \n",
       "certification                                                        NaN   \n",
       "\n",
       "                                                                     858  \\\n",
       "imdb_id                                                        tt0252335   \n",
       "adult                                                                0.0   \n",
       "backdrop_path                           /5iNrEilm4jG4hUklek81e5R8AGN.jpg   \n",
       "belongs_to_collection                                               None   \n",
       "budget                                                               0.0   \n",
       "genres                 [{'id': 18, 'name': 'Drama'}, {'id': 14, 'name...   \n",
       "homepage                                                                   \n",
       "id                                                              140101.0   \n",
       "original_language                                                     fr   \n",
       "original_title                                   Combat d'amour en songe   \n",
       "overview               A serious young man of free spirit is forced b...   \n",
       "popularity                                                         1.423   \n",
       "poster_path                             /1LPY4kvYkBWJcTLkkYWMWpbXpHW.jpg   \n",
       "production_companies   [{'id': 6584, 'logo_path': None, 'name': 'Gemi...   \n",
       "production_countries   [{'iso_3166_1': 'PT', 'name': 'Portugal'}, {'i...   \n",
       "release_date                                                  2000-08-28   \n",
       "revenue                                                              0.0   \n",
       "runtime                                                            123.0   \n",
       "spoken_languages       [{'english_name': 'Spanish', 'iso_639_1': 'es'...   \n",
       "status                                                          Released   \n",
       "tagline                                                                    \n",
       "title                                                Love Torn in Dreams   \n",
       "video                                                                0.0   \n",
       "vote_average                                                         7.5   \n",
       "vote_count                                                           8.0   \n",
       "certification                                                        NaN   \n",
       "\n",
       "                                                                     332  \\\n",
       "imdb_id                                                        tt0200192   \n",
       "adult                                                                0.0   \n",
       "backdrop_path                           /n74r1dfTqnArIGC8VNU8k0gHf04.jpg   \n",
       "belongs_to_collection                                               None   \n",
       "budget                                                               0.0   \n",
       "genres                 [{'id': 35, 'name': 'Comedy'}, {'id': 18, 'nam...   \n",
       "homepage                                                                   \n",
       "id                                                               22705.0   \n",
       "original_language                                                     it   \n",
       "original_title                                             Tra(sgre)dire   \n",
       "overview               While scouting out apartments in London for he...   \n",
       "popularity                                                        47.187   \n",
       "poster_path                             /1mtLSZSdgIUKgHZ44PK2gVPEfOn.jpg   \n",
       "production_companies   [{'id': 31075, 'logo_path': None, 'name': 'Lio...   \n",
       "production_countries             [{'iso_3166_1': 'IT', 'name': 'Italy'}]   \n",
       "release_date                                                  2000-01-28   \n",
       "revenue                                                              0.0   \n",
       "runtime                                                             91.0   \n",
       "spoken_languages       [{'english_name': 'Italian', 'iso_639_1': 'it'...   \n",
       "status                                                          Released   \n",
       "tagline                                                                    \n",
       "title                                                             Cheeky   \n",
       "video                                                                0.0   \n",
       "vote_average                                                       5.498   \n",
       "vote_count                                                         200.0   \n",
       "certification                                                        NaN   \n",
       "\n",
       "                                                                     949  \\\n",
       "imdb_id                                                        tt0264079   \n",
       "adult                                                                0.0   \n",
       "backdrop_path                           /e6BaxmNg805FIIBP4eE0CVU3cRy.jpg   \n",
       "belongs_to_collection  {'id': 429231, 'name': 'Taina Collection', 'po...   \n",
       "budget                                                               0.0   \n",
       "genres                 [{'id': 10751, 'name': 'Family'}, {'id': 14, '...   \n",
       "homepage                                                                   \n",
       "id                                                              294161.0   \n",
       "original_language                                                     pt   \n",
       "original_title                           Tainá: Uma Aventura na Amazônia   \n",
       "overview               A brave and bold indigenous girl, protector of...   \n",
       "popularity                                                         2.593   \n",
       "poster_path                             /1eWXD2818d5VVHhayLIOvyTI9wy.jpg   \n",
       "production_companies   [{'id': 93240, 'logo_path': None, 'name': 'Tie...   \n",
       "production_countries            [{'iso_3166_1': 'BR', 'name': 'Brazil'}]   \n",
       "release_date                                                  2001-01-12   \n",
       "revenue                                                              0.0   \n",
       "runtime                                                             90.0   \n",
       "spoken_languages       [{'english_name': 'Portuguese', 'iso_639_1': '...   \n",
       "status                                                          Released   \n",
       "tagline                They have a mission: protect nature from man's...   \n",
       "title                                         Tainá: An Amazon Adventure   \n",
       "video                                                                0.0   \n",
       "vote_average                                                       4.443   \n",
       "vote_count                                                          35.0   \n",
       "certification                                                        NaN   \n",
       "\n",
       "                                                                     495  \n",
       "imdb_id                                                        tt0215841  \n",
       "adult                                                                0.0  \n",
       "backdrop_path                           /zKfKwKwQmU4VsQsv3afeNMN6jNS.jpg  \n",
       "belongs_to_collection                                               None  \n",
       "budget                                                               0.0  \n",
       "genres                 [{'id': 18, 'name': 'Drama'}, {'id': 80, 'name...  \n",
       "homepage                                                                  \n",
       "id                                                               58169.0  \n",
       "original_language                                                     fr  \n",
       "original_title                                            Hijack Stories  \n",
       "overview               Far from Hollywood eye candy, this movie has a...  \n",
       "popularity                                                          1.52  \n",
       "poster_path                             /ovGt6JtNXGiOQqHP0dvWJ24hjDE.jpg  \n",
       "production_companies                                                  []  \n",
       "production_countries                                                  []  \n",
       "release_date                                                  2001-07-03  \n",
       "revenue                                                              0.0  \n",
       "runtime                                                              0.0  \n",
       "spoken_languages                                                      []  \n",
       "status                                                          Released  \n",
       "tagline                                                                   \n",
       "title                                                     Hijack Stories  \n",
       "video                                                                0.0  \n",
       "vote_average                                                         5.3  \n",
       "vote_count                                                           3.0  \n",
       "certification                                                        NaN  "
      ]
     },
     "execution_count": 23,
     "metadata": {},
     "output_type": "execute_result"
    }
   ],
   "source": [
    "# inspecting movies missing rating\n",
    "df_2000[df_2000['certification'].isna()].sample(5).T"
   ]
  },
  {
   "cell_type": "markdown",
   "id": "59d6aa8e",
   "metadata": {},
   "source": [
    "<mark><u>**Comment:**</u>\n",
    "\n",
    "<font color='dodgerblue' size=4><i>\n",
    "Looks like everything worked here.  We will be taking a closer look at the data in a separate notebook.\n",
    "</i></font>"
   ]
  }
 ],
 "metadata": {
  "kernelspec": {
   "display_name": "Python (dojo-env)",
   "language": "python",
   "name": "dojo-env"
  },
  "language_info": {
   "codemirror_mode": {
    "name": "ipython",
    "version": 3
   },
   "file_extension": ".py",
   "mimetype": "text/x-python",
   "name": "python",
   "nbconvert_exporter": "python",
   "pygments_lexer": "ipython3",
   "version": "3.9.15"
  },
  "toc": {
   "base_numbering": 1,
   "nav_menu": {},
   "number_sections": false,
   "sideBar": true,
   "skip_h1_title": false,
   "title_cell": "Table of Contents",
   "title_sidebar": "Contents",
   "toc_cell": false,
   "toc_position": {
    "height": "calc(100% - 180px)",
    "left": "10px",
    "top": "150px",
    "width": "197px"
   },
   "toc_section_display": true,
   "toc_window_display": true
  },
  "varInspector": {
   "cols": {
    "lenName": 16,
    "lenType": 16,
    "lenVar": 40
   },
   "kernels_config": {
    "python": {
     "delete_cmd_postfix": "",
     "delete_cmd_prefix": "del ",
     "library": "var_list.py",
     "varRefreshCmd": "print(var_dic_list())"
    },
    "r": {
     "delete_cmd_postfix": ") ",
     "delete_cmd_prefix": "rm(",
     "library": "var_list.r",
     "varRefreshCmd": "cat(var_dic_list()) "
    }
   },
   "types_to_exclude": [
    "module",
    "function",
    "builtin_function_or_method",
    "instance",
    "_Feature"
   ],
   "window_display": false
  }
 },
 "nbformat": 4,
 "nbformat_minor": 5
}
