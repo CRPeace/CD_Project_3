{
 "cells": [
  {
   "cell_type": "markdown",
   "id": "0b13d61b",
   "metadata": {},
   "source": [
    "# Project 3 Part 3 - MYSQL DB\n",
    "Cameron Peace"
   ]
  },
  {
   "cell_type": "markdown",
   "id": "a09b0ccc",
   "metadata": {},
   "source": [
    "### Task"
   ]
  },
  {
   "cell_type": "markdown",
   "id": "61c2f76d",
   "metadata": {},
   "source": [
    "***For part 3 of the project you will be practicing applying an E.T.L process on your previously saved movie data. Specifically, you will create a new MySQL database after preparing the data for a relational database. You will export your database to a .sql file in your repository using MySQL Workbench.***"
   ]
  },
  {
   "cell_type": "markdown",
   "id": "ad061055",
   "metadata": {},
   "source": [
    "### Assignment"
   ]
  },
  {
   "cell_type": "markdown",
   "id": "659e5c15",
   "metadata": {},
   "source": [
    "Specifications - Database\n",
    "\n",
    "Your stakeholder wants you to take the data you have been cleaning and collecting in Parts 1 & 2 of the project, and wants you to create a MySQL database for them.\n",
    "\n",
    "Specifically, they want the data from the following files included in your database:\n",
    "\n",
    "* Title Basics:\n",
    "    * Movie ID (tconst)\n",
    "    * Primary Title\n",
    "    * Start Year\n",
    "    * Runtime (in Minutes)\n",
    "    * Genres\n",
    "* Title Ratings\n",
    "    * Movie ID (tconst)\n",
    "    * Average Movie Rating\n",
    "    * Number of Votes\n",
    "* The TMDB API Results (multiple files)\n",
    "    * Movie ID\n",
    "    * Revenue\n",
    "    * Budget\n",
    "    * Certification (MPAA Rating)\n",
    "    \n",
    "You should normalize the tables as best you can before adding them to your new database.\n",
    "\n",
    ">**Note: an important exception to their request is that they would like you to keep all of the data from the TMDB API in 1 table together (even though it will not be perfectly normalized).**\n",
    "\n",
    ">**You only need to keep the imdb_id, revenue, budget, and certification columns**\n",
    "\n",
    "Required Transformation Steps for Title Basics:\n",
    "\n",
    "* Normalize Genre:\n",
    "\n",
    "    * Convert the single string of genres from title basics into 2 new tables.\n",
    "    * [ ] \"title_genres\": with the columns:\n",
    "\n",
    "        * tconst\n",
    "        * genre_id\n",
    "    * [ ] genres:\n",
    "        * genre_id\n",
    "        * genre_name\n",
    "\n",
    "Discard unnecessary information:\n",
    "\n",
    "For the title basics table, drop the following columns:\n",
    "\n",
    "* [ ] \"original_title\" (we will use the primary title column instead)\n",
    "* [ ] \"isAdult\" (\"Adult\" will show up in the genres so this is redundant information).\n",
    "* [ ] \"titleType\" (every row will be a movie).\n",
    "* [ ] \"genres\" and other variants of genre (genre is now represented in the 2 new tables described above.\n",
    "\n",
    "Do not include the title_akas table in your SQL database.\n",
    "You have already filtered out the desired movies using this table and the remaining data is mostly nulls and not of-interest to the stakeholder.\n",
    "\n",
    "MySQL Database Requirements\n",
    "Use sqlalchemy with pandas to execute your SQL queries inside your notebook.\n",
    "\n",
    "* [ ] Create a new database on your MySQL server and call it \"movies\".\n",
    "\n",
    "* Make sure to have the following tables in your \"movies\" database:\n",
    "    * [ ] title_basics\n",
    "    * [ ] title_ratings\n",
    "    * [ ] title_genres\n",
    "    * [ ] genres\n",
    "    * [ ] tmdb_data\n",
    "\n",
    "Make sure to set a Primary Key for each table that isn't a joiner table (e.g. title_genres is a joiner table).\n",
    "\n",
    "* [ ] After creating each table, show the first 5 rows of that table using a SQL query.\n",
    "\n",
    "* [ ] Make sure to run the \"SHOW TABLES\" SQL query at the end of your notebook to show that all required tables have been created.\n",
    "\n",
    "Deliverables\n",
    "Submit a link to your github respository containing the Jupyter Notebook file."
   ]
  },
  {
   "cell_type": "markdown",
   "id": "0c7a957c",
   "metadata": {},
   "source": [
    "### Imports"
   ]
  },
  {
   "cell_type": "code",
   "execution_count": 3,
   "id": "a9b06753",
   "metadata": {},
   "outputs": [],
   "source": [
    "import pandas as pd\n",
    "import numpy as np\n",
    "from matplotlib import pyplot as plt\n",
    "import seaborn as sns"
   ]
  },
  {
   "cell_type": "markdown",
   "id": "d7869e82",
   "metadata": {},
   "source": [
    "### Loading, Viewing Data"
   ]
  },
  {
   "cell_type": "code",
   "execution_count": 5,
   "id": "fc55f033",
   "metadata": {},
   "outputs": [],
   "source": [
    "# loading data\n",
    "basics = pd.read_csv('Data/title_basics.csv.gz')\n",
    "ratings = pd.read_csv('Data/title_ratings.csv.gz')"
   ]
  },
  {
   "cell_type": "code",
   "execution_count": 6,
   "id": "a93a0e07",
   "metadata": {},
   "outputs": [
    {
     "data": {
      "text/html": [
       "<div>\n",
       "<style scoped>\n",
       "    .dataframe tbody tr th:only-of-type {\n",
       "        vertical-align: middle;\n",
       "    }\n",
       "\n",
       "    .dataframe tbody tr th {\n",
       "        vertical-align: top;\n",
       "    }\n",
       "\n",
       "    .dataframe thead th {\n",
       "        text-align: right;\n",
       "    }\n",
       "</style>\n",
       "<table border=\"1\" class=\"dataframe\">\n",
       "  <thead>\n",
       "    <tr style=\"text-align: right;\">\n",
       "      <th></th>\n",
       "      <th>tconst</th>\n",
       "      <th>titleType</th>\n",
       "      <th>primaryTitle</th>\n",
       "      <th>originalTitle</th>\n",
       "      <th>isAdult</th>\n",
       "      <th>startYear</th>\n",
       "      <th>endYear</th>\n",
       "      <th>runtimeMinutes</th>\n",
       "      <th>genres</th>\n",
       "    </tr>\n",
       "  </thead>\n",
       "  <tbody>\n",
       "    <tr>\n",
       "      <th>0</th>\n",
       "      <td>tt0035423</td>\n",
       "      <td>movie</td>\n",
       "      <td>Kate &amp; Leopold</td>\n",
       "      <td>Kate &amp; Leopold</td>\n",
       "      <td>0</td>\n",
       "      <td>2001.0</td>\n",
       "      <td>NaN</td>\n",
       "      <td>118</td>\n",
       "      <td>Comedy,Fantasy,Romance</td>\n",
       "    </tr>\n",
       "    <tr>\n",
       "      <th>1</th>\n",
       "      <td>tt0062336</td>\n",
       "      <td>movie</td>\n",
       "      <td>The Tango of the Widower and Its Distorting Mi...</td>\n",
       "      <td>El tango del viudo y su espejo deformante</td>\n",
       "      <td>0</td>\n",
       "      <td>2020.0</td>\n",
       "      <td>NaN</td>\n",
       "      <td>70</td>\n",
       "      <td>Drama</td>\n",
       "    </tr>\n",
       "    <tr>\n",
       "      <th>2</th>\n",
       "      <td>tt0069049</td>\n",
       "      <td>movie</td>\n",
       "      <td>The Other Side of the Wind</td>\n",
       "      <td>The Other Side of the Wind</td>\n",
       "      <td>0</td>\n",
       "      <td>2018.0</td>\n",
       "      <td>NaN</td>\n",
       "      <td>122</td>\n",
       "      <td>Drama</td>\n",
       "    </tr>\n",
       "    <tr>\n",
       "      <th>3</th>\n",
       "      <td>tt0088751</td>\n",
       "      <td>movie</td>\n",
       "      <td>The Naked Monster</td>\n",
       "      <td>The Naked Monster</td>\n",
       "      <td>0</td>\n",
       "      <td>2005.0</td>\n",
       "      <td>NaN</td>\n",
       "      <td>100</td>\n",
       "      <td>Comedy,Horror,Sci-Fi</td>\n",
       "    </tr>\n",
       "    <tr>\n",
       "      <th>4</th>\n",
       "      <td>tt0096056</td>\n",
       "      <td>movie</td>\n",
       "      <td>Crime and Punishment</td>\n",
       "      <td>Crime and Punishment</td>\n",
       "      <td>0</td>\n",
       "      <td>2002.0</td>\n",
       "      <td>NaN</td>\n",
       "      <td>126</td>\n",
       "      <td>Drama</td>\n",
       "    </tr>\n",
       "  </tbody>\n",
       "</table>\n",
       "</div>"
      ],
      "text/plain": [
       "      tconst titleType                                       primaryTitle  \\\n",
       "0  tt0035423     movie                                     Kate & Leopold   \n",
       "1  tt0062336     movie  The Tango of the Widower and Its Distorting Mi...   \n",
       "2  tt0069049     movie                         The Other Side of the Wind   \n",
       "3  tt0088751     movie                                  The Naked Monster   \n",
       "4  tt0096056     movie                               Crime and Punishment   \n",
       "\n",
       "                               originalTitle  isAdult  startYear  endYear  \\\n",
       "0                             Kate & Leopold        0     2001.0      NaN   \n",
       "1  El tango del viudo y su espejo deformante        0     2020.0      NaN   \n",
       "2                 The Other Side of the Wind        0     2018.0      NaN   \n",
       "3                          The Naked Monster        0     2005.0      NaN   \n",
       "4                       Crime and Punishment        0     2002.0      NaN   \n",
       "\n",
       "   runtimeMinutes                  genres  \n",
       "0             118  Comedy,Fantasy,Romance  \n",
       "1              70                   Drama  \n",
       "2             122                   Drama  \n",
       "3             100    Comedy,Horror,Sci-Fi  \n",
       "4             126                   Drama  "
      ]
     },
     "metadata": {},
     "output_type": "display_data"
    },
    {
     "data": {
      "text/html": [
       "<div>\n",
       "<style scoped>\n",
       "    .dataframe tbody tr th:only-of-type {\n",
       "        vertical-align: middle;\n",
       "    }\n",
       "\n",
       "    .dataframe tbody tr th {\n",
       "        vertical-align: top;\n",
       "    }\n",
       "\n",
       "    .dataframe thead th {\n",
       "        text-align: right;\n",
       "    }\n",
       "</style>\n",
       "<table border=\"1\" class=\"dataframe\">\n",
       "  <thead>\n",
       "    <tr style=\"text-align: right;\">\n",
       "      <th></th>\n",
       "      <th>tconst</th>\n",
       "      <th>averageRating</th>\n",
       "      <th>numVotes</th>\n",
       "    </tr>\n",
       "  </thead>\n",
       "  <tbody>\n",
       "    <tr>\n",
       "      <th>0</th>\n",
       "      <td>tt0000001</td>\n",
       "      <td>5.7</td>\n",
       "      <td>1960</td>\n",
       "    </tr>\n",
       "    <tr>\n",
       "      <th>1</th>\n",
       "      <td>tt0000002</td>\n",
       "      <td>5.8</td>\n",
       "      <td>263</td>\n",
       "    </tr>\n",
       "    <tr>\n",
       "      <th>2</th>\n",
       "      <td>tt0000005</td>\n",
       "      <td>6.2</td>\n",
       "      <td>2597</td>\n",
       "    </tr>\n",
       "    <tr>\n",
       "      <th>3</th>\n",
       "      <td>tt0000006</td>\n",
       "      <td>5.1</td>\n",
       "      <td>178</td>\n",
       "    </tr>\n",
       "    <tr>\n",
       "      <th>4</th>\n",
       "      <td>tt0000007</td>\n",
       "      <td>5.4</td>\n",
       "      <td>816</td>\n",
       "    </tr>\n",
       "  </tbody>\n",
       "</table>\n",
       "</div>"
      ],
      "text/plain": [
       "      tconst  averageRating  numVotes\n",
       "0  tt0000001            5.7      1960\n",
       "1  tt0000002            5.8       263\n",
       "2  tt0000005            6.2      2597\n",
       "3  tt0000006            5.1       178\n",
       "4  tt0000007            5.4       816"
      ]
     },
     "metadata": {},
     "output_type": "display_data"
    }
   ],
   "source": [
    "# initial view\n",
    "display(basics.head(), ratings.head())"
   ]
  }
 ],
 "metadata": {
  "kernelspec": {
   "display_name": "Python (dojo-env)",
   "language": "python",
   "name": "dojo-env"
  },
  "language_info": {
   "codemirror_mode": {
    "name": "ipython",
    "version": 3
   },
   "file_extension": ".py",
   "mimetype": "text/x-python",
   "name": "python",
   "nbconvert_exporter": "python",
   "pygments_lexer": "ipython3",
   "version": "3.9.15"
  },
  "toc": {
   "base_numbering": 1,
   "nav_menu": {},
   "number_sections": false,
   "sideBar": true,
   "skip_h1_title": false,
   "title_cell": "Table of Contents",
   "title_sidebar": "Contents",
   "toc_cell": false,
   "toc_position": {},
   "toc_section_display": true,
   "toc_window_display": false
  },
  "varInspector": {
   "cols": {
    "lenName": 16,
    "lenType": 16,
    "lenVar": 40
   },
   "kernels_config": {
    "python": {
     "delete_cmd_postfix": "",
     "delete_cmd_prefix": "del ",
     "library": "var_list.py",
     "varRefreshCmd": "print(var_dic_list())"
    },
    "r": {
     "delete_cmd_postfix": ") ",
     "delete_cmd_prefix": "rm(",
     "library": "var_list.r",
     "varRefreshCmd": "cat(var_dic_list()) "
    }
   },
   "types_to_exclude": [
    "module",
    "function",
    "builtin_function_or_method",
    "instance",
    "_Feature"
   ],
   "window_display": false
  }
 },
 "nbformat": 4,
 "nbformat_minor": 5
}
