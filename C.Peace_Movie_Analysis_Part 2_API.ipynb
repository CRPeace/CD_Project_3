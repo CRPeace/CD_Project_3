{
 "cells": [
  {
   "cell_type": "markdown",
   "id": "c8ca42ac",
   "metadata": {},
   "source": [
    "# Movie Analysis Part 2 API\n",
    "Cameron Peace"
   ]
  },
  {
   "cell_type": "markdown",
   "id": "740ab783",
   "metadata": {},
   "source": [
    "<mark> ***Use an API to extract box office revenue and profit data to add to our IMDB data and perform exploratory data analysis.***"
   ]
  },
  {
   "cell_type": "markdown",
   "id": "7d1b9a43",
   "metadata": {},
   "source": [
    "### Imports"
   ]
  },
  {
   "cell_type": "code",
   "execution_count": 1,
   "id": "8cf5c192",
   "metadata": {},
   "outputs": [],
   "source": [
    "import pandas as pd\n",
    "import numpy as np\n",
    "from matplotlib import pyplot as plt\n",
    "import seaborn as sns\n",
    "from tqdm.notebook import tqdm_notebook\n",
    "import tmdbsimple as tmdb\n",
    "import json\n",
    "import time\n",
    "import os"
   ]
  },
  {
   "cell_type": "markdown",
   "id": "3ec88716",
   "metadata": {},
   "source": [
    "### Loading in csvs"
   ]
  },
  {
   "cell_type": "code",
   "execution_count": 2,
   "id": "6fcdf885",
   "metadata": {
    "scrolled": true
   },
   "outputs": [
    {
     "data": {
      "text/html": [
       "<div>\n",
       "<style scoped>\n",
       "    .dataframe tbody tr th:only-of-type {\n",
       "        vertical-align: middle;\n",
       "    }\n",
       "\n",
       "    .dataframe tbody tr th {\n",
       "        vertical-align: top;\n",
       "    }\n",
       "\n",
       "    .dataframe thead th {\n",
       "        text-align: right;\n",
       "    }\n",
       "</style>\n",
       "<table border=\"1\" class=\"dataframe\">\n",
       "  <thead>\n",
       "    <tr style=\"text-align: right;\">\n",
       "      <th></th>\n",
       "      <th>tconst</th>\n",
       "      <th>titleType</th>\n",
       "      <th>primaryTitle</th>\n",
       "      <th>originalTitle</th>\n",
       "      <th>isAdult</th>\n",
       "      <th>startYear</th>\n",
       "      <th>endYear</th>\n",
       "      <th>runtimeMinutes</th>\n",
       "      <th>genres</th>\n",
       "    </tr>\n",
       "  </thead>\n",
       "  <tbody>\n",
       "    <tr>\n",
       "      <th>0</th>\n",
       "      <td>tt0035423</td>\n",
       "      <td>movie</td>\n",
       "      <td>Kate &amp; Leopold</td>\n",
       "      <td>Kate &amp; Leopold</td>\n",
       "      <td>0</td>\n",
       "      <td>2001.0</td>\n",
       "      <td>NaN</td>\n",
       "      <td>118</td>\n",
       "      <td>Comedy,Fantasy,Romance</td>\n",
       "    </tr>\n",
       "    <tr>\n",
       "      <th>1</th>\n",
       "      <td>tt0062336</td>\n",
       "      <td>movie</td>\n",
       "      <td>The Tango of the Widower and Its Distorting Mi...</td>\n",
       "      <td>El tango del viudo y su espejo deformante</td>\n",
       "      <td>0</td>\n",
       "      <td>2020.0</td>\n",
       "      <td>NaN</td>\n",
       "      <td>70</td>\n",
       "      <td>Drama</td>\n",
       "    </tr>\n",
       "  </tbody>\n",
       "</table>\n",
       "</div>"
      ],
      "text/plain": [
       "      tconst titleType                                       primaryTitle  \\\n",
       "0  tt0035423     movie                                     Kate & Leopold   \n",
       "1  tt0062336     movie  The Tango of the Widower and Its Distorting Mi...   \n",
       "\n",
       "                               originalTitle  isAdult  startYear  endYear  \\\n",
       "0                             Kate & Leopold        0     2001.0      NaN   \n",
       "1  El tango del viudo y su espejo deformante        0     2020.0      NaN   \n",
       "\n",
       "   runtimeMinutes                  genres  \n",
       "0             118  Comedy,Fantasy,Romance  \n",
       "1              70                   Drama  "
      ]
     },
     "execution_count": 2,
     "metadata": {},
     "output_type": "execute_result"
    }
   ],
   "source": [
    "basics = pd.read_csv('Data/title_basics.csv.gz')\n",
    "basics.head(2)"
   ]
  },
  {
   "cell_type": "code",
   "execution_count": 3,
   "id": "f720cfdf",
   "metadata": {},
   "outputs": [],
   "source": [
    "# changing year to int because the float may be causing an error in later code\n",
    "basics['startYear'] = basics['startYear'].astype(int)"
   ]
  },
  {
   "cell_type": "code",
   "execution_count": 4,
   "id": "ac5b391e",
   "metadata": {},
   "outputs": [
    {
     "data": {
      "text/html": [
       "<div>\n",
       "<style scoped>\n",
       "    .dataframe tbody tr th:only-of-type {\n",
       "        vertical-align: middle;\n",
       "    }\n",
       "\n",
       "    .dataframe tbody tr th {\n",
       "        vertical-align: top;\n",
       "    }\n",
       "\n",
       "    .dataframe thead th {\n",
       "        text-align: right;\n",
       "    }\n",
       "</style>\n",
       "<table border=\"1\" class=\"dataframe\">\n",
       "  <thead>\n",
       "    <tr style=\"text-align: right;\">\n",
       "      <th></th>\n",
       "      <th>tconst</th>\n",
       "      <th>titleType</th>\n",
       "      <th>primaryTitle</th>\n",
       "      <th>originalTitle</th>\n",
       "      <th>isAdult</th>\n",
       "      <th>startYear</th>\n",
       "      <th>endYear</th>\n",
       "      <th>runtimeMinutes</th>\n",
       "      <th>genres</th>\n",
       "    </tr>\n",
       "  </thead>\n",
       "  <tbody>\n",
       "    <tr>\n",
       "      <th>0</th>\n",
       "      <td>tt0035423</td>\n",
       "      <td>movie</td>\n",
       "      <td>Kate &amp; Leopold</td>\n",
       "      <td>Kate &amp; Leopold</td>\n",
       "      <td>0</td>\n",
       "      <td>2001</td>\n",
       "      <td>NaN</td>\n",
       "      <td>118</td>\n",
       "      <td>Comedy,Fantasy,Romance</td>\n",
       "    </tr>\n",
       "    <tr>\n",
       "      <th>1</th>\n",
       "      <td>tt0062336</td>\n",
       "      <td>movie</td>\n",
       "      <td>The Tango of the Widower and Its Distorting Mi...</td>\n",
       "      <td>El tango del viudo y su espejo deformante</td>\n",
       "      <td>0</td>\n",
       "      <td>2020</td>\n",
       "      <td>NaN</td>\n",
       "      <td>70</td>\n",
       "      <td>Drama</td>\n",
       "    </tr>\n",
       "    <tr>\n",
       "      <th>2</th>\n",
       "      <td>tt0069049</td>\n",
       "      <td>movie</td>\n",
       "      <td>The Other Side of the Wind</td>\n",
       "      <td>The Other Side of the Wind</td>\n",
       "      <td>0</td>\n",
       "      <td>2018</td>\n",
       "      <td>NaN</td>\n",
       "      <td>122</td>\n",
       "      <td>Drama</td>\n",
       "    </tr>\n",
       "    <tr>\n",
       "      <th>3</th>\n",
       "      <td>tt0088751</td>\n",
       "      <td>movie</td>\n",
       "      <td>The Naked Monster</td>\n",
       "      <td>The Naked Monster</td>\n",
       "      <td>0</td>\n",
       "      <td>2005</td>\n",
       "      <td>NaN</td>\n",
       "      <td>100</td>\n",
       "      <td>Comedy,Horror,Sci-Fi</td>\n",
       "    </tr>\n",
       "    <tr>\n",
       "      <th>4</th>\n",
       "      <td>tt0096056</td>\n",
       "      <td>movie</td>\n",
       "      <td>Crime and Punishment</td>\n",
       "      <td>Crime and Punishment</td>\n",
       "      <td>0</td>\n",
       "      <td>2002</td>\n",
       "      <td>NaN</td>\n",
       "      <td>126</td>\n",
       "      <td>Drama</td>\n",
       "    </tr>\n",
       "  </tbody>\n",
       "</table>\n",
       "</div>"
      ],
      "text/plain": [
       "      tconst titleType                                       primaryTitle  \\\n",
       "0  tt0035423     movie                                     Kate & Leopold   \n",
       "1  tt0062336     movie  The Tango of the Widower and Its Distorting Mi...   \n",
       "2  tt0069049     movie                         The Other Side of the Wind   \n",
       "3  tt0088751     movie                                  The Naked Monster   \n",
       "4  tt0096056     movie                               Crime and Punishment   \n",
       "\n",
       "                               originalTitle  isAdult  startYear  endYear  \\\n",
       "0                             Kate & Leopold        0       2001      NaN   \n",
       "1  El tango del viudo y su espejo deformante        0       2020      NaN   \n",
       "2                 The Other Side of the Wind        0       2018      NaN   \n",
       "3                          The Naked Monster        0       2005      NaN   \n",
       "4                       Crime and Punishment        0       2002      NaN   \n",
       "\n",
       "   runtimeMinutes                  genres  \n",
       "0             118  Comedy,Fantasy,Romance  \n",
       "1              70                   Drama  \n",
       "2             122                   Drama  \n",
       "3             100    Comedy,Horror,Sci-Fi  \n",
       "4             126                   Drama  "
      ]
     },
     "execution_count": 4,
     "metadata": {},
     "output_type": "execute_result"
    }
   ],
   "source": [
    "# confirming\n",
    "basics.head()"
   ]
  },
  {
   "cell_type": "markdown",
   "id": "e63b0d42",
   "metadata": {},
   "source": [
    "## Setting up the API"
   ]
  },
  {
   "cell_type": "code",
   "execution_count": 5,
   "id": "ee5e0733",
   "metadata": {},
   "outputs": [
    {
     "data": {
      "text/plain": [
       "dict_keys(['api-key'])"
      ]
     },
     "execution_count": 5,
     "metadata": {},
     "output_type": "execute_result"
    }
   ],
   "source": [
    "# loading api-key\n",
    "with open('/Users/cameron/.secret/tmdb_api.json', 'r') as f:\n",
    "    login = json.load(f)\n",
    "# confirming\n",
    "login.keys()"
   ]
  },
  {
   "cell_type": "code",
   "execution_count": 6,
   "id": "4031c8a6",
   "metadata": {},
   "outputs": [],
   "source": [
    "# setting key in tmdb module\n",
    "tmdb.API_KEY =  login['api-key']"
   ]
  },
  {
   "cell_type": "markdown",
   "id": "93af53ff",
   "metadata": {},
   "source": [
    "### Setting up folder"
   ]
  },
  {
   "cell_type": "code",
   "execution_count": 7,
   "id": "5319cc51",
   "metadata": {},
   "outputs": [],
   "source": [
    "folder = \"Data/\"\n",
    "os.makedirs(folder, exist_ok=True)\n",
    "os.listdir(folder);"
   ]
  },
  {
   "cell_type": "markdown",
   "id": "a37e11e7",
   "metadata": {},
   "source": [
    "## Setting up functions"
   ]
  },
  {
   "cell_type": "code",
   "execution_count": 8,
   "id": "12f5c63e",
   "metadata": {},
   "outputs": [],
   "source": [
    "def get_movie_with_rating(movie_id):\n",
    "    movie = tmdb.Movies(movie_id)\n",
    "    info = movie.info()\n",
    "    releases = movie.releases()\n",
    "\n",
    "    for c in releases['countries']:\n",
    "        if c['iso_3166_1' ] == 'US':\n",
    "           info['certification'] = c['certification']\n",
    "    \n",
    "    return info"
   ]
  },
  {
   "cell_type": "code",
   "execution_count": 9,
   "id": "a07281b6",
   "metadata": {},
   "outputs": [],
   "source": [
    "def write_json(new_data, filename): \n",
    "    \"\"\"Appends a list of records (new_data) to a json file (filename). \n",
    "    Adapted from: https://www.geeksforgeeks.org/append-to-json-file-using-python/\"\"\"  \n",
    "    \n",
    "    with open(filename, 'r+') as file:\n",
    "        file_data = json.load(file)\n",
    "        if (type(new_data) == list) & (type(file_data) == list):\n",
    "            file_data.extend(new_data)\n",
    "        else:\n",
    "             file_data.append(new_data)\n",
    "        file.seek(0)\n",
    "        json.dump(file_data, file)"
   ]
  },
  {
   "cell_type": "markdown",
   "id": "9c35d37f",
   "metadata": {},
   "source": [
    "### Testing Functions"
   ]
  },
  {
   "cell_type": "markdown",
   "id": "38c2c839",
   "metadata": {},
   "source": [
    "In order to ensure your function for extracting movie data from TMDB is working, test your function on these 2 movie ids: tt0848228 (\"The Avengers\") and tt0332280 (\"The Notebook\"). Make sure that your function runs without error and that it returns the correct movie's data for both test ids."
   ]
  },
  {
   "cell_type": "code",
   "execution_count": 10,
   "id": "b1b012dd",
   "metadata": {},
   "outputs": [],
   "source": [
    "# using function\n",
    "avengers = get_movie_with_rating('tt0848228')\n",
    "notebook = get_movie_with_rating('tt0332280')"
   ]
  },
  {
   "cell_type": "code",
   "execution_count": 11,
   "id": "e27a10aa",
   "metadata": {
    "scrolled": true
   },
   "outputs": [
    {
     "name": "stdout",
     "output_type": "stream",
     "text": [
      "The Avengers 2012-04-25 PG-13\n",
      "The Notebook 2004-06-25 PG-13\n"
     ]
    }
   ],
   "source": [
    "# confirming results\n",
    "for i in [avengers, notebook]:\n",
    "    print(i['title'], i['release_date'], i['certification'])"
   ]
  },
  {
   "cell_type": "markdown",
   "id": "4071fe8a",
   "metadata": {},
   "source": [
    "<mark><u>**Comment:**</u>\n",
    "\n",
    "<font color='dodgerblue' size=4><i>\n",
    "Looks like everything worked here\n",
    "</i></font>"
   ]
  },
  {
   "cell_type": "markdown",
   "id": "924b9f0c",
   "metadata": {},
   "source": [
    "### Loop to Gather Data"
   ]
  },
  {
   "cell_type": "code",
   "execution_count": 12,
   "id": "bfd6e211",
   "metadata": {},
   "outputs": [],
   "source": [
    "# years to get from api call\n",
    "years_to_get = [2003]"
   ]
  },
  {
   "cell_type": "code",
   "execution_count": 13,
   "id": "4afcddfd",
   "metadata": {},
   "outputs": [],
   "source": [
    "# list to catch errors\n",
    "errors = []"
   ]
  },
  {
   "cell_type": "code",
   "execution_count": 14,
   "id": "b2732b8a",
   "metadata": {},
   "outputs": [
    {
     "data": {
      "application/vnd.jupyter.widget-view+json": {
       "model_id": "4f7a6f32e605478b9a2de56efd0647a3",
       "version_major": 2,
       "version_minor": 0
      },
      "text/plain": [
       "YEARS:   0%|          | 0/1 [00:00<?, ?it/s]"
      ]
     },
     "metadata": {},
     "output_type": "display_data"
    },
    {
     "data": {
      "application/vnd.jupyter.widget-view+json": {
       "model_id": "9a4650171ff2452f99c2c70e27208c96",
       "version_major": 2,
       "version_minor": 0
      },
      "text/plain": [
       "Movies from 2003:   0%|          | 0/1671 [00:00<?, ?it/s]"
      ]
     },
     "metadata": {},
     "output_type": "display_data"
    }
   ],
   "source": [
    "for year in tqdm_notebook(years_to_get, desc='YEARS', position=0):\n",
    "    json_file = f'{folder}tmdb_api_results_{year}.json'\n",
    "    if os.path.isfile(json_file) == False:\n",
    "        with open(json_file, 'w') as f:\n",
    "            json.dump([{'imdb_id':0}], f)\n",
    "\n",
    "    df = basics.loc[basics['startYear'] == year].copy()\n",
    "    movie_ids = df['tconst'].copy()\n",
    "    previous_df = pd.read_json(json_file)\n",
    "    movie_ids_to_get = movie_ids[~movie_ids.isin(previous_df['imdb_id'])]\n",
    "\n",
    "    for movie_id in tqdm_notebook(movie_ids_to_get,\n",
    "                                  desc=f'Movies from {year}',\n",
    "                                  position=1,\n",
    "                                  leave=True):\n",
    "        try:\n",
    "            temp = get_movie_with_rating(movie_id)  \n",
    "            write_json(temp, json_file)\n",
    "            time.sleep(0.02)\n",
    "            \n",
    "        except Exception as e:\n",
    "            errors.append([movie_id, e])\n",
    "        \n",
    "    final_year_df = pd.read_json(json_file)\n",
    "    final_year_df.to_csv(f\"{folder}final_tmdb_data_{year}.csv.gz\", compression=\"gzip\", index=False)"
   ]
  },
  {
   "cell_type": "markdown",
   "id": "380520a6",
   "metadata": {},
   "source": [
    "### Checking Results"
   ]
  },
  {
   "cell_type": "code",
   "execution_count": 15,
   "id": "be02070b",
   "metadata": {},
   "outputs": [
    {
     "name": "stdout",
     "output_type": "stream",
     "text": [
      "- Total errors: 354\n",
      "- 404 Client Errors: 354\n"
     ]
    }
   ],
   "source": [
    "# checking the number of errors\n",
    "print(f\"- Total errors: {len(errors)}\")\n",
    "\n",
    "# demonstrating that the errors are related to imdb ids not found in the tmdb\n",
    "count = 0\n",
    "not_404 = []\n",
    "for i in errors:\n",
    "    if '404 Client Error' in str(i[1]):\n",
    "        count += 1\n",
    "    else:\n",
    "        not_404.append(i)\n",
    "print(f'- 404 Client Errors: {count}')\n",
    "\n",
    "# printing any errors that are not 404 if they exist\n",
    "if not_404: \n",
    "    print(not_404)"
   ]
  },
  {
   "cell_type": "code",
   "execution_count": 16,
   "id": "43867254",
   "metadata": {},
   "outputs": [
    {
     "data": {
      "text/plain": [
       "[['tt0153516',\n",
       "  requests.exceptions.HTTPError('404 Client Error: Not Found for url: https://api.themoviedb.org/3/movie/tt0153516?api_key=4d4c9815bcf18b420f748fabcf653225')],\n",
       " ['tt0208412',\n",
       "  requests.exceptions.HTTPError('404 Client Error: Not Found for url: https://api.themoviedb.org/3/movie/tt0208412?api_key=4d4c9815bcf18b420f748fabcf653225')],\n",
       " ['tt0222710',\n",
       "  requests.exceptions.HTTPError('404 Client Error: Not Found for url: https://api.themoviedb.org/3/movie/tt0222710?api_key=4d4c9815bcf18b420f748fabcf653225')]]"
      ]
     },
     "execution_count": 16,
     "metadata": {},
     "output_type": "execute_result"
    }
   ],
   "source": [
    "# taking a look at errors\n",
    "errors[:3]"
   ]
  },
  {
   "cell_type": "code",
   "execution_count": 26,
   "id": "c89b46f9",
   "metadata": {},
   "outputs": [],
   "source": [
    "# confirming data\n",
    "df_2003 = pd.read_json('Data/tmdb_api_results_2003.json')\n",
    "df_2004 = pd.read_json('Data/tmdb_api_results_2004.json')"
   ]
  },
  {
   "cell_type": "code",
   "execution_count": 27,
   "id": "ae2636db",
   "metadata": {},
   "outputs": [
    {
     "data": {
      "text/plain": [
       "(1318, 26)"
      ]
     },
     "metadata": {},
     "output_type": "display_data"
    },
    {
     "data": {
      "text/plain": [
       "(1470, 26)"
      ]
     },
     "metadata": {},
     "output_type": "display_data"
    }
   ],
   "source": [
    "# confirming\n",
    "display(df_2003.shape, df_2004.shape)"
   ]
  },
  {
   "cell_type": "code",
   "execution_count": 24,
   "id": "9c8e2136",
   "metadata": {},
   "outputs": [
    {
     "data": {
      "text/plain": [
       "Index(['imdb_id', 'adult', 'backdrop_path', 'belongs_to_collection', 'budget',\n",
       "       'genres', 'homepage', 'id', 'original_language', 'original_title',\n",
       "       'overview', 'popularity', 'poster_path', 'production_companies',\n",
       "       'production_countries', 'release_date', 'revenue', 'runtime',\n",
       "       'spoken_languages', 'status', 'tagline', 'title', 'video',\n",
       "       'vote_average', 'vote_count', 'certification'],\n",
       "      dtype='object')"
      ]
     },
     "execution_count": 24,
     "metadata": {},
     "output_type": "execute_result"
    }
   ],
   "source": [
    "# confirming columns\n",
    "df_2003.columns"
   ]
  },
  {
   "cell_type": "code",
   "execution_count": 25,
   "id": "e1707a46",
   "metadata": {},
   "outputs": [
    {
     "data": {
      "text/html": [
       "<div>\n",
       "<style scoped>\n",
       "    .dataframe tbody tr th:only-of-type {\n",
       "        vertical-align: middle;\n",
       "    }\n",
       "\n",
       "    .dataframe tbody tr th {\n",
       "        vertical-align: top;\n",
       "    }\n",
       "\n",
       "    .dataframe thead th {\n",
       "        text-align: right;\n",
       "    }\n",
       "</style>\n",
       "<table border=\"1\" class=\"dataframe\">\n",
       "  <thead>\n",
       "    <tr style=\"text-align: right;\">\n",
       "      <th></th>\n",
       "      <th>1197</th>\n",
       "      <th>1161</th>\n",
       "      <th>601</th>\n",
       "      <th>735</th>\n",
       "      <th>545</th>\n",
       "    </tr>\n",
       "  </thead>\n",
       "  <tbody>\n",
       "    <tr>\n",
       "      <th>imdb_id</th>\n",
       "      <td>tt2131677</td>\n",
       "      <td>tt0479692</td>\n",
       "      <td>tt0223856</td>\n",
       "      <td>tt0239955</td>\n",
       "      <td>tt0218616</td>\n",
       "    </tr>\n",
       "    <tr>\n",
       "      <th>adult</th>\n",
       "      <td>0.0</td>\n",
       "      <td>0.0</td>\n",
       "      <td>0.0</td>\n",
       "      <td>0.0</td>\n",
       "      <td>0.0</td>\n",
       "    </tr>\n",
       "    <tr>\n",
       "      <th>backdrop_path</th>\n",
       "      <td>None</td>\n",
       "      <td>/xIdrWvHAQkibTs6MnytvqhYNXBK.jpg</td>\n",
       "      <td>None</td>\n",
       "      <td>None</td>\n",
       "      <td>/oK0EwQzU3SqG3PfZwTnkQC4bAjO.jpg</td>\n",
       "    </tr>\n",
       "    <tr>\n",
       "      <th>belongs_to_collection</th>\n",
       "      <td>None</td>\n",
       "      <td>None</td>\n",
       "      <td>None</td>\n",
       "      <td>None</td>\n",
       "      <td>None</td>\n",
       "    </tr>\n",
       "    <tr>\n",
       "      <th>budget</th>\n",
       "      <td>0.0</td>\n",
       "      <td>0.0</td>\n",
       "      <td>0.0</td>\n",
       "      <td>0.0</td>\n",
       "      <td>0.0</td>\n",
       "    </tr>\n",
       "    <tr>\n",
       "      <th>genres</th>\n",
       "      <td>[{'id': 18, 'name': 'Drama'}]</td>\n",
       "      <td>[{'id': 18, 'name': 'Drama'}, {'id': 10752, 'n...</td>\n",
       "      <td>[{'id': 18, 'name': 'Drama'}, {'id': 28, 'name...</td>\n",
       "      <td>[]</td>\n",
       "      <td>[{'id': 35, 'name': 'Comedy'}, {'id': 18, 'nam...</td>\n",
       "    </tr>\n",
       "    <tr>\n",
       "      <th>homepage</th>\n",
       "      <td></td>\n",
       "      <td></td>\n",
       "      <td></td>\n",
       "      <td></td>\n",
       "      <td></td>\n",
       "    </tr>\n",
       "    <tr>\n",
       "      <th>id</th>\n",
       "      <td>626058.0</td>\n",
       "      <td>696367.0</td>\n",
       "      <td>112878.0</td>\n",
       "      <td>187911.0</td>\n",
       "      <td>83581.0</td>\n",
       "    </tr>\n",
       "    <tr>\n",
       "      <th>original_language</th>\n",
       "      <td>ja</td>\n",
       "      <td>zh</td>\n",
       "      <td>en</td>\n",
       "      <td>es</td>\n",
       "      <td>en</td>\n",
       "    </tr>\n",
       "    <tr>\n",
       "      <th>original_title</th>\n",
       "      <td>月</td>\n",
       "      <td>葵花劫</td>\n",
       "      <td>The Opponent</td>\n",
       "      <td>Sé quién eres</td>\n",
       "      <td>Some Voices</td>\n",
       "    </tr>\n",
       "    <tr>\n",
       "      <th>overview</th>\n",
       "      <td>A humanity drama set in Asakusa. Natsumi, a th...</td>\n",
       "      <td></td>\n",
       "      <td>Patty Sullivan (Erica Eleniak) is a battered w...</td>\n",
       "      <td>Paloma is a young psychiatrist, who is hired t...</td>\n",
       "      <td>Schizophrenic Ray tries to adjust to the outsi...</td>\n",
       "    </tr>\n",
       "    <tr>\n",
       "      <th>popularity</th>\n",
       "      <td>0.879</td>\n",
       "      <td>0.6</td>\n",
       "      <td>2.314</td>\n",
       "      <td>1.34</td>\n",
       "      <td>3.184</td>\n",
       "    </tr>\n",
       "    <tr>\n",
       "      <th>poster_path</th>\n",
       "      <td>/dwWSWwQV4wTR8e0Ty9ROsq27Yed.jpg</td>\n",
       "      <td>/1pu6be1Jm9J9nYqziIDCahK3vCH.jpg</td>\n",
       "      <td>/ApYJBXvkRcjQ4jqFPI3gW4FEWgz.jpg</td>\n",
       "      <td>/d0wlbBx8EFGNI5KojnJp78rRnu2.jpg</td>\n",
       "      <td>/yOZNSgqnRmslKjr19WcLZ1BDvEr.jpg</td>\n",
       "    </tr>\n",
       "    <tr>\n",
       "      <th>production_companies</th>\n",
       "      <td>[]</td>\n",
       "      <td>[]</td>\n",
       "      <td>[{'id': 1632, 'logo_path': '/cisLn1YAUuptXVBa0...</td>\n",
       "      <td>[]</td>\n",
       "      <td>[{'id': 2997, 'logo_path': None, 'name': 'Drag...</td>\n",
       "    </tr>\n",
       "    <tr>\n",
       "      <th>production_countries</th>\n",
       "      <td>[{'iso_3166_1': 'JP', 'name': 'Japan'}]</td>\n",
       "      <td>[{'iso_3166_1': 'CN', 'name': 'China'}]</td>\n",
       "      <td>[{'iso_3166_1': 'US', 'name': 'United States o...</td>\n",
       "      <td>[{'iso_3166_1': 'AR', 'name': 'Argentina'}, {'...</td>\n",
       "      <td>[{'iso_3166_1': 'GB', 'name': 'United Kingdom'}]</td>\n",
       "    </tr>\n",
       "    <tr>\n",
       "      <th>release_date</th>\n",
       "      <td>2000-07-08</td>\n",
       "      <td>2003-07-19</td>\n",
       "      <td>2001-08-01</td>\n",
       "      <td>2000-04-07</td>\n",
       "      <td>2000-08-25</td>\n",
       "    </tr>\n",
       "    <tr>\n",
       "      <th>revenue</th>\n",
       "      <td>0.0</td>\n",
       "      <td>0.0</td>\n",
       "      <td>0.0</td>\n",
       "      <td>0.0</td>\n",
       "      <td>0.0</td>\n",
       "    </tr>\n",
       "    <tr>\n",
       "      <th>runtime</th>\n",
       "      <td>113.0</td>\n",
       "      <td>0.0</td>\n",
       "      <td>90.0</td>\n",
       "      <td>100.0</td>\n",
       "      <td>101.0</td>\n",
       "    </tr>\n",
       "    <tr>\n",
       "      <th>spoken_languages</th>\n",
       "      <td>[{'english_name': 'Japanese', 'iso_639_1': 'ja...</td>\n",
       "      <td>[{'english_name': 'Mandarin', 'iso_639_1': 'zh...</td>\n",
       "      <td>[{'english_name': 'English', 'iso_639_1': 'en'...</td>\n",
       "      <td>[{'english_name': 'Spanish', 'iso_639_1': 'es'...</td>\n",
       "      <td>[{'english_name': 'English', 'iso_639_1': 'en'...</td>\n",
       "    </tr>\n",
       "    <tr>\n",
       "      <th>status</th>\n",
       "      <td>Released</td>\n",
       "      <td>Released</td>\n",
       "      <td>Released</td>\n",
       "      <td>Released</td>\n",
       "      <td>Released</td>\n",
       "    </tr>\n",
       "    <tr>\n",
       "      <th>tagline</th>\n",
       "      <td></td>\n",
       "      <td></td>\n",
       "      <td>She couldn't run from her past. So she fought ...</td>\n",
       "      <td></td>\n",
       "      <td></td>\n",
       "    </tr>\n",
       "    <tr>\n",
       "      <th>title</th>\n",
       "      <td>The Moon</td>\n",
       "      <td>葵花劫</td>\n",
       "      <td>The Opponent</td>\n",
       "      <td>I Know Who You Are</td>\n",
       "      <td>Some Voices</td>\n",
       "    </tr>\n",
       "    <tr>\n",
       "      <th>video</th>\n",
       "      <td>0.0</td>\n",
       "      <td>0.0</td>\n",
       "      <td>0.0</td>\n",
       "      <td>0.0</td>\n",
       "      <td>0.0</td>\n",
       "    </tr>\n",
       "    <tr>\n",
       "      <th>vote_average</th>\n",
       "      <td>0.0</td>\n",
       "      <td>0.0</td>\n",
       "      <td>4.2</td>\n",
       "      <td>5.2</td>\n",
       "      <td>6.2</td>\n",
       "    </tr>\n",
       "    <tr>\n",
       "      <th>vote_count</th>\n",
       "      <td>0.0</td>\n",
       "      <td>0.0</td>\n",
       "      <td>8.0</td>\n",
       "      <td>11.0</td>\n",
       "      <td>26.0</td>\n",
       "    </tr>\n",
       "    <tr>\n",
       "      <th>certification</th>\n",
       "      <td>NaN</td>\n",
       "      <td>NaN</td>\n",
       "      <td>NaN</td>\n",
       "      <td>NaN</td>\n",
       "      <td>NaN</td>\n",
       "    </tr>\n",
       "  </tbody>\n",
       "</table>\n",
       "</div>"
      ],
      "text/plain": [
       "                                                                    1197  \\\n",
       "imdb_id                                                        tt2131677   \n",
       "adult                                                                0.0   \n",
       "backdrop_path                                                       None   \n",
       "belongs_to_collection                                               None   \n",
       "budget                                                               0.0   \n",
       "genres                                     [{'id': 18, 'name': 'Drama'}]   \n",
       "homepage                                                                   \n",
       "id                                                              626058.0   \n",
       "original_language                                                     ja   \n",
       "original_title                                                         月   \n",
       "overview               A humanity drama set in Asakusa. Natsumi, a th...   \n",
       "popularity                                                         0.879   \n",
       "poster_path                             /dwWSWwQV4wTR8e0Ty9ROsq27Yed.jpg   \n",
       "production_companies                                                  []   \n",
       "production_countries             [{'iso_3166_1': 'JP', 'name': 'Japan'}]   \n",
       "release_date                                                  2000-07-08   \n",
       "revenue                                                              0.0   \n",
       "runtime                                                            113.0   \n",
       "spoken_languages       [{'english_name': 'Japanese', 'iso_639_1': 'ja...   \n",
       "status                                                          Released   \n",
       "tagline                                                                    \n",
       "title                                                           The Moon   \n",
       "video                                                                0.0   \n",
       "vote_average                                                         0.0   \n",
       "vote_count                                                           0.0   \n",
       "certification                                                        NaN   \n",
       "\n",
       "                                                                    1161  \\\n",
       "imdb_id                                                        tt0479692   \n",
       "adult                                                                0.0   \n",
       "backdrop_path                           /xIdrWvHAQkibTs6MnytvqhYNXBK.jpg   \n",
       "belongs_to_collection                                               None   \n",
       "budget                                                               0.0   \n",
       "genres                 [{'id': 18, 'name': 'Drama'}, {'id': 10752, 'n...   \n",
       "homepage                                                                   \n",
       "id                                                              696367.0   \n",
       "original_language                                                     zh   \n",
       "original_title                                                       葵花劫   \n",
       "overview                                                                   \n",
       "popularity                                                           0.6   \n",
       "poster_path                             /1pu6be1Jm9J9nYqziIDCahK3vCH.jpg   \n",
       "production_companies                                                  []   \n",
       "production_countries             [{'iso_3166_1': 'CN', 'name': 'China'}]   \n",
       "release_date                                                  2003-07-19   \n",
       "revenue                                                              0.0   \n",
       "runtime                                                              0.0   \n",
       "spoken_languages       [{'english_name': 'Mandarin', 'iso_639_1': 'zh...   \n",
       "status                                                          Released   \n",
       "tagline                                                                    \n",
       "title                                                                葵花劫   \n",
       "video                                                                0.0   \n",
       "vote_average                                                         0.0   \n",
       "vote_count                                                           0.0   \n",
       "certification                                                        NaN   \n",
       "\n",
       "                                                                    601   \\\n",
       "imdb_id                                                        tt0223856   \n",
       "adult                                                                0.0   \n",
       "backdrop_path                                                       None   \n",
       "belongs_to_collection                                               None   \n",
       "budget                                                               0.0   \n",
       "genres                 [{'id': 18, 'name': 'Drama'}, {'id': 28, 'name...   \n",
       "homepage                                                                   \n",
       "id                                                              112878.0   \n",
       "original_language                                                     en   \n",
       "original_title                                              The Opponent   \n",
       "overview               Patty Sullivan (Erica Eleniak) is a battered w...   \n",
       "popularity                                                         2.314   \n",
       "poster_path                             /ApYJBXvkRcjQ4jqFPI3gW4FEWgz.jpg   \n",
       "production_companies   [{'id': 1632, 'logo_path': '/cisLn1YAUuptXVBa0...   \n",
       "production_countries   [{'iso_3166_1': 'US', 'name': 'United States o...   \n",
       "release_date                                                  2001-08-01   \n",
       "revenue                                                              0.0   \n",
       "runtime                                                             90.0   \n",
       "spoken_languages       [{'english_name': 'English', 'iso_639_1': 'en'...   \n",
       "status                                                          Released   \n",
       "tagline                She couldn't run from her past. So she fought ...   \n",
       "title                                                       The Opponent   \n",
       "video                                                                0.0   \n",
       "vote_average                                                         4.2   \n",
       "vote_count                                                           8.0   \n",
       "certification                                                        NaN   \n",
       "\n",
       "                                                                    735   \\\n",
       "imdb_id                                                        tt0239955   \n",
       "adult                                                                0.0   \n",
       "backdrop_path                                                       None   \n",
       "belongs_to_collection                                               None   \n",
       "budget                                                               0.0   \n",
       "genres                                                                []   \n",
       "homepage                                                                   \n",
       "id                                                              187911.0   \n",
       "original_language                                                     es   \n",
       "original_title                                             Sé quién eres   \n",
       "overview               Paloma is a young psychiatrist, who is hired t...   \n",
       "popularity                                                          1.34   \n",
       "poster_path                             /d0wlbBx8EFGNI5KojnJp78rRnu2.jpg   \n",
       "production_companies                                                  []   \n",
       "production_countries   [{'iso_3166_1': 'AR', 'name': 'Argentina'}, {'...   \n",
       "release_date                                                  2000-04-07   \n",
       "revenue                                                              0.0   \n",
       "runtime                                                            100.0   \n",
       "spoken_languages       [{'english_name': 'Spanish', 'iso_639_1': 'es'...   \n",
       "status                                                          Released   \n",
       "tagline                                                                    \n",
       "title                                                 I Know Who You Are   \n",
       "video                                                                0.0   \n",
       "vote_average                                                         5.2   \n",
       "vote_count                                                          11.0   \n",
       "certification                                                        NaN   \n",
       "\n",
       "                                                                    545   \n",
       "imdb_id                                                        tt0218616  \n",
       "adult                                                                0.0  \n",
       "backdrop_path                           /oK0EwQzU3SqG3PfZwTnkQC4bAjO.jpg  \n",
       "belongs_to_collection                                               None  \n",
       "budget                                                               0.0  \n",
       "genres                 [{'id': 35, 'name': 'Comedy'}, {'id': 18, 'nam...  \n",
       "homepage                                                                  \n",
       "id                                                               83581.0  \n",
       "original_language                                                     en  \n",
       "original_title                                               Some Voices  \n",
       "overview               Schizophrenic Ray tries to adjust to the outsi...  \n",
       "popularity                                                         3.184  \n",
       "poster_path                             /yOZNSgqnRmslKjr19WcLZ1BDvEr.jpg  \n",
       "production_companies   [{'id': 2997, 'logo_path': None, 'name': 'Drag...  \n",
       "production_countries    [{'iso_3166_1': 'GB', 'name': 'United Kingdom'}]  \n",
       "release_date                                                  2000-08-25  \n",
       "revenue                                                              0.0  \n",
       "runtime                                                            101.0  \n",
       "spoken_languages       [{'english_name': 'English', 'iso_639_1': 'en'...  \n",
       "status                                                          Released  \n",
       "tagline                                                                   \n",
       "title                                                        Some Voices  \n",
       "video                                                                0.0  \n",
       "vote_average                                                         6.2  \n",
       "vote_count                                                          26.0  \n",
       "certification                                                        NaN  "
      ]
     },
     "execution_count": 25,
     "metadata": {},
     "output_type": "execute_result"
    }
   ],
   "source": [
    "# inspecting movies missing rating\n",
    "df_2000[df_2000['certification'].isna()].sample(5).T"
   ]
  },
  {
   "cell_type": "markdown",
   "id": "59d6aa8e",
   "metadata": {},
   "source": [
    "<mark><u>**Comment:**</u>\n",
    "\n",
    "<font color='dodgerblue' size=4><i>\n",
    "Looks like everything worked here.  We will be taking a closer look at the data in a separate notebook.\n",
    "</i></font>"
   ]
  }
 ],
 "metadata": {
  "kernelspec": {
   "display_name": "Python (dojo-env)",
   "language": "python",
   "name": "dojo-env"
  },
  "language_info": {
   "codemirror_mode": {
    "name": "ipython",
    "version": 3
   },
   "file_extension": ".py",
   "mimetype": "text/x-python",
   "name": "python",
   "nbconvert_exporter": "python",
   "pygments_lexer": "ipython3",
   "version": "3.9.15"
  },
  "toc": {
   "base_numbering": 1,
   "nav_menu": {},
   "number_sections": false,
   "sideBar": true,
   "skip_h1_title": false,
   "title_cell": "Table of Contents",
   "title_sidebar": "Contents",
   "toc_cell": false,
   "toc_position": {
    "height": "calc(100% - 180px)",
    "left": "10px",
    "top": "150px",
    "width": "197px"
   },
   "toc_section_display": true,
   "toc_window_display": true
  },
  "varInspector": {
   "cols": {
    "lenName": 16,
    "lenType": 16,
    "lenVar": 40
   },
   "kernels_config": {
    "python": {
     "delete_cmd_postfix": "",
     "delete_cmd_prefix": "del ",
     "library": "var_list.py",
     "varRefreshCmd": "print(var_dic_list())"
    },
    "r": {
     "delete_cmd_postfix": ") ",
     "delete_cmd_prefix": "rm(",
     "library": "var_list.r",
     "varRefreshCmd": "cat(var_dic_list()) "
    }
   },
   "types_to_exclude": [
    "module",
    "function",
    "builtin_function_or_method",
    "instance",
    "_Feature"
   ],
   "window_display": false
  }
 },
 "nbformat": 4,
 "nbformat_minor": 5
}
